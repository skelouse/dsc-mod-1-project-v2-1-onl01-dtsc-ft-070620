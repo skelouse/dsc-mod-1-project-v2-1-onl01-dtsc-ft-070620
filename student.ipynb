{
 "cells": [
  {
   "cell_type": "markdown",
   "metadata": {
    "toc": true
   },
   "source": [
    "<h1>Table of Contents<span class=\"tocSkip\"></span></h1>\n",
    "<div class=\"toc\"><ul class=\"toc-item\"><li><span><a href=\"#Final-Project-Submission\" data-toc-modified-id=\"Final-Project-Submission-1\"><span class=\"toc-item-num\">1&nbsp;&nbsp;</span>Final Project Submission</a></span></li><li><span><a href=\"#Imports\" data-toc-modified-id=\"Imports-2\"><span class=\"toc-item-num\">2&nbsp;&nbsp;</span>Imports</a></span><ul class=\"toc-item\"><li><span><a href=\"#Importing-modules\" data-toc-modified-id=\"Importing-modules-2.1\"><span class=\"toc-item-num\">2.1&nbsp;&nbsp;</span>Importing modules</a></span></li><li><span><a href=\"#Importing-Data\" data-toc-modified-id=\"Importing-Data-2.2\"><span class=\"toc-item-num\">2.2&nbsp;&nbsp;</span>Importing Data</a></span></li><li><span><a href=\"#Splitting-Out-Rating\" data-toc-modified-id=\"Splitting-Out-Rating-2.3\"><span class=\"toc-item-num\">2.3&nbsp;&nbsp;</span>Splitting Out Rating</a></span></li></ul></li><li><span><a href=\"#Plotting-Domestic-vs-World-Wide-Gross\" data-toc-modified-id=\"Plotting-Domestic-vs-World-Wide-Gross-3\"><span class=\"toc-item-num\">3&nbsp;&nbsp;</span>Plotting Domestic vs World Wide Gross</a></span><ul class=\"toc-item\"><li><span><a href=\"#Cleaning\" data-toc-modified-id=\"Cleaning-3.1\"><span class=\"toc-item-num\">3.1&nbsp;&nbsp;</span>Cleaning</a></span></li><li><span><a href=\"#Plotting\" data-toc-modified-id=\"Plotting-3.2\"><span class=\"toc-item-num\">3.2&nbsp;&nbsp;</span>Plotting</a></span></li></ul></li><li><span><a href=\"#Adding-ROI-and-Combining-Info-Into-Larger-Frame\" data-toc-modified-id=\"Adding-ROI-and-Combining-Info-Into-Larger-Frame-4\"><span class=\"toc-item-num\">4&nbsp;&nbsp;</span>Adding ROI and Combining Info Into Larger Frame</a></span><ul class=\"toc-item\"><li><span><a href=\"#Join-Info-to-the-Scraped-Data\" data-toc-modified-id=\"Join-Info-to-the-Scraped-Data-4.1\"><span class=\"toc-item-num\">4.1&nbsp;&nbsp;</span>Join Info to the Scraped Data</a></span></li><li><span><a href=\"#Min-and-Max-ROIs\" data-toc-modified-id=\"Min-and-Max-ROIs-4.2\"><span class=\"toc-item-num\">4.2&nbsp;&nbsp;</span>Min and Max ROIs</a></span></li></ul></li><li><span><a href=\"#Plotting-Top-Genres\" data-toc-modified-id=\"Plotting-Top-Genres-5\"><span class=\"toc-item-num\">5&nbsp;&nbsp;</span>Plotting Top Genres</a></span><ul class=\"toc-item\"><li><span><a href=\"#Cleaning\" data-toc-modified-id=\"Cleaning-5.1\"><span class=\"toc-item-num\">5.1&nbsp;&nbsp;</span>Cleaning</a></span></li><li><span><a href=\"#Plotting\" data-toc-modified-id=\"Plotting-5.2\"><span class=\"toc-item-num\">5.2&nbsp;&nbsp;</span>Plotting</a></span></li></ul></li><li><span><a href=\"#Directors\" data-toc-modified-id=\"Directors-6\"><span class=\"toc-item-num\">6&nbsp;&nbsp;</span>Directors</a></span><ul class=\"toc-item\"><li><span><a href=\"#Getting-the-Names-of-directors-and-writers\" data-toc-modified-id=\"Getting-the-Names-of-directors-and-writers-6.1\"><span class=\"toc-item-num\">6.1&nbsp;&nbsp;</span>Getting the Names of directors and writers</a></span></li><li><span><a href=\"#Plotting-ROI-vs-Director-Quantity\" data-toc-modified-id=\"Plotting-ROI-vs-Director-Quantity-6.2\"><span class=\"toc-item-num\">6.2&nbsp;&nbsp;</span>Plotting ROI vs Director Quantity</a></span><ul class=\"toc-item\"><li><span><a href=\"#Cleaning\" data-toc-modified-id=\"Cleaning-6.2.1\"><span class=\"toc-item-num\">6.2.1&nbsp;&nbsp;</span>Cleaning</a></span></li><li><span><a href=\"#Plotting\" data-toc-modified-id=\"Plotting-6.2.2\"><span class=\"toc-item-num\">6.2.2&nbsp;&nbsp;</span>Plotting</a></span></li></ul></li><li><span><a href=\"#Plotting-Directors-vs-Mean-ROI\" data-toc-modified-id=\"Plotting-Directors-vs-Mean-ROI-6.3\"><span class=\"toc-item-num\">6.3&nbsp;&nbsp;</span>Plotting Directors vs Mean ROI</a></span><ul class=\"toc-item\"><li><span><a href=\"#Cleaning\" data-toc-modified-id=\"Cleaning-6.3.1\"><span class=\"toc-item-num\">6.3.1&nbsp;&nbsp;</span>Cleaning</a></span></li><li><span><a href=\"#Plotting\" data-toc-modified-id=\"Plotting-6.3.2\"><span class=\"toc-item-num\">6.3.2&nbsp;&nbsp;</span>Plotting</a></span></li></ul></li></ul></li><li><span><a href=\"#Writers\" data-toc-modified-id=\"Writers-7\"><span class=\"toc-item-num\">7&nbsp;&nbsp;</span>Writers</a></span><ul class=\"toc-item\"><li><span><a href=\"#Plotting-ROI-vs-Writer-Quantity\" data-toc-modified-id=\"Plotting-ROI-vs-Writer-Quantity-7.1\"><span class=\"toc-item-num\">7.1&nbsp;&nbsp;</span>Plotting ROI vs Writer Quantity</a></span><ul class=\"toc-item\"><li><span><a href=\"#Cleaning\" data-toc-modified-id=\"Cleaning-7.1.1\"><span class=\"toc-item-num\">7.1.1&nbsp;&nbsp;</span>Cleaning</a></span></li><li><span><a href=\"#Plotting\" data-toc-modified-id=\"Plotting-7.1.2\"><span class=\"toc-item-num\">7.1.2&nbsp;&nbsp;</span>Plotting</a></span></li></ul></li><li><span><a href=\"#Plotting-ROI-vs-Writer-Quantity\" data-toc-modified-id=\"Plotting-ROI-vs-Writer-Quantity-7.2\"><span class=\"toc-item-num\">7.2&nbsp;&nbsp;</span>Plotting ROI vs Writer Quantity</a></span><ul class=\"toc-item\"><li><span><a href=\"#Cleaning\" data-toc-modified-id=\"Cleaning-7.2.1\"><span class=\"toc-item-num\">7.2.1&nbsp;&nbsp;</span>Cleaning</a></span></li><li><span><a href=\"#Plotting\" data-toc-modified-id=\"Plotting-7.2.2\"><span class=\"toc-item-num\">7.2.2&nbsp;&nbsp;</span>Plotting</a></span></li></ul></li></ul></li><li><span><a href=\"#End\" data-toc-modified-id=\"End-8\"><span class=\"toc-item-num\">8&nbsp;&nbsp;</span>End</a></span></li></ul></div>"
   ]
  },
  {
   "cell_type": "markdown",
   "metadata": {
    "heading_collapsed": true
   },
   "source": [
    "## Final Project Submission\n",
    "\n",
    "Please fill out:\n",
    "* Student name: Sam Stoltenberg\n",
    "* Student pace: full time\n",
    "* Scheduled project review date/time: 8/7/2020 6:00PM\n",
    "* Instructor name: James Irving\n",
    "* Blog post URL:  https://skelouse.github.io/project_placeholder\n"
   ]
  },
  {
   "cell_type": "markdown",
   "metadata": {
    "heading_collapsed": true
   },
   "source": [
    "## Imports"
   ]
  },
  {
   "cell_type": "markdown",
   "metadata": {
    "heading_collapsed": true,
    "hidden": true
   },
   "source": [
    "### Importing modules"
   ]
  },
  {
   "cell_type": "code",
   "execution_count": 1,
   "metadata": {
    "hidden": true
   },
   "outputs": [
    {
     "name": "stderr",
     "output_type": "stream",
     "text": [
      "\n",
      "Bad key \"text.kerning_factor\" on line 4 in\n",
      "C:\\Users\\12147\\anaconda3\\envs\\learn-env\\lib\\site-packages\\matplotlib\\mpl-data\\stylelib\\_classic_test_patch.mplstyle.\n",
      "You probably need to get an updated matplotlibrc file from\n",
      "http://github.com/matplotlib/matplotlib/blob/master/matplotlibrc.template\n",
      "or from the matplotlib source distribution\n"
     ]
    }
   ],
   "source": [
    "# Relevant imports\n",
    "# What time period this is what's analyzed, ecided to use ww gross\n",
    "# SOOO microsoft should do this after as shown\n",
    "import os\n",
    "import pandas as pd\n",
    "import pandasql as ps\n",
    "import numpy as np\n",
    "import seaborn as sns\n",
    "import matplotlib.pyplot as plt\n",
    "pd.set_option('mode.chained_assignment', None)\n",
    "\n",
    "# download data -> here"
   ]
  },
  {
   "cell_type": "markdown",
   "metadata": {
    "heading_collapsed": true,
    "hidden": true
   },
   "source": [
    "### Importing Data"
   ]
  },
  {
   "cell_type": "code",
   "execution_count": 2,
   "metadata": {
    "hidden": true,
    "tags": []
   },
   "outputs": [
    {
     "name": "stdout",
     "output_type": "stream",
     "text": [
      "reading imdb.name.basics.tsv.gz 190.70305347442627 MB\n",
      "reading imdb.title.akas.tsv.gz 189.05681037902832 MB\n",
      "reading imdb.title.basics.tsv.gz 119.10677146911621 MB\n",
      "reading imdb.title.crew.tsv.gz 47.09960460662842 MB\n",
      "reading imdb.title.episode.tsv.gz 26.076172828674316 MB\n",
      "reading imdb.title.principals.tsv.gz 314.29254722595215 MB\n",
      "reading imdb.title.ratings.tsv.gz 4.99261474609375 MB\n",
      "Done loading 891.3275747299194 MB\n"
     ]
    }
   ],
   "source": [
    "store_folder = 'Data'\n",
    "data = {}  # dictionary of dataframes\n",
    "total_size = 0  # size of all of the files\n",
    "for filename in os.listdir(store_folder):\n",
    "    path = (store_folder+'/'+filename)\n",
    "    size = os.stat(path).st_size/(1024**2)  # gets the size of the file in MB\n",
    "    total_size += size\n",
    "    print(\"reading\", filename, size, 'MB')\n",
    "    try:\n",
    "        if path.endswith('tsv.gz'):  # for tsv files\n",
    "            data[filename[:-7]] = pd.read_csv(path,\n",
    "                                                delimiter='\\t',\n",
    "                                                low_memory=False)\n",
    "        else:  # for csv files\n",
    "            data[filename[:-7]] = pd.read_csv(path,\n",
    "                                                low_memory=False)\n",
    "    except UnicodeDecodeError:\n",
    "        # Changing encoding to reflect utf-8 unknown characters\n",
    "        if path.endswith('tsv.gz'):\n",
    "            data[filename[:-7]] = pd.read_csv(path,\n",
    "                                            delimiter='\\t',\n",
    "                                            low_memory=False,\n",
    "                                            encoding='windows-1252')\n",
    "        else:\n",
    "            data[filename[:-7]] = pd.read_csv(path,\n",
    "                                            low_memory=False,\n",
    "                                            encoding='windows-1252')\n",
    "print('Done loading %s MB' % total_size)"
   ]
  },
  {
   "cell_type": "code",
   "execution_count": 3,
   "metadata": {
    "hidden": true
   },
   "outputs": [],
   "source": [
    "# Open df from csv that was scraped as a group\n",
    "data['scraped_money'] = pd.read_csv('scraped_data/budget_ratings.csv', index_col=0)"
   ]
  },
  {
   "cell_type": "code",
   "execution_count": 4,
   "metadata": {
    "hidden": true
   },
   "outputs": [],
   "source": [
    "# Loading each of the csv/tsv files into variables for pysql\n",
    "# Showing the columns for each for reference\n",
    "\n",
    "['nconst', 'primaryName', 'birthYear', 'deathYear', 'primaryProfession', 'knownForTitles']\n",
    "name_basics = data['imdb.name.basics']\n",
    "\n",
    "['titleId', 'ordering', 'title', 'region', 'language', 'types',\n",
    "    'attributes', 'isOriginalTitle']\n",
    "title_akas = data['imdb.title.akas']\n",
    "\n",
    "['tconst', 'titleType', 'primaryTitle', 'originalTitle', 'isAdult',\n",
    "    'startYear', 'endYear', 'runtimeMinutes', 'genres']\n",
    "title_basics = data['imdb.title.basics']\n",
    "\n",
    "['tconst', 'directors', 'writers']\n",
    "title_crew = data['imdb.title.crew']\n",
    "\n",
    "['tconst', 'parentTconst', 'seasonNumber', 'episodeNumber']\n",
    "title_episode = data['imdb.title.episode']\n",
    "\n",
    "['tconst', 'ordering', 'nconst', 'category', 'job', 'characters']\n",
    "title_principals = data['imdb.title.principals']\n",
    "\n",
    "['tconst', 'averageRating', 'numVotes']\n",
    "title_ratings = data['imdb.title.ratings']\n",
    "\n",
    "['tconst', 'budget', 'ww_gross', 'rating']\n",
    "scraped_money = data['scraped_money']"
   ]
  },
  {
   "cell_type": "code",
   "execution_count": 5,
   "metadata": {
    "hidden": true
   },
   "outputs": [],
   "source": [
    "# Setting the index of scraped_money to match the rest\n",
    "scraped_money = scraped_money.set_index('tconst')"
   ]
  },
  {
   "cell_type": "markdown",
   "metadata": {
    "heading_collapsed": true,
    "hidden": true
   },
   "source": [
    "### Splitting Out Rating"
   ]
  },
  {
   "cell_type": "code",
   "execution_count": 6,
   "metadata": {
    "hidden": true
   },
   "outputs": [
    {
     "data": {
      "text/plain": [
       "NotRated       5834\n",
       "R              2272\n",
       "PG-13          1265\n",
       "TV-MA           949\n",
       "Drama           871\n",
       "Documentary     811\n",
       "TV-14           760\n",
       "PG              723\n",
       "Unrated         663\n",
       "Comedy          573\n",
       "Name: rating, dtype: int64"
      ]
     },
     "execution_count": 6,
     "metadata": {},
     "output_type": "execute_result"
    }
   ],
   "source": [
    "# Taking out the top ratings that have needed values(budget, gross, etc)\n",
    "# Cleaning ratings below, because of genres in rating column\n",
    "df = scraped_money\n",
    "ratings = ['G', 'PG', 'PG-13', 'R']\n",
    "df['rating'].value_counts().head(10)"
   ]
  },
  {
   "cell_type": "markdown",
   "metadata": {},
   "source": [
    "## Plotting Domestic vs World Wide Gross\n"
   ]
  },
  {
   "cell_type": "markdown",
   "metadata": {},
   "source": [
    "### Cleaning"
   ]
  },
  {
   "cell_type": "code",
   "execution_count": 7,
   "metadata": {},
   "outputs": [
    {
     "data": {
      "text/html": [
       "<div>\n",
       "<style scoped>\n",
       "    .dataframe tbody tr th:only-of-type {\n",
       "        vertical-align: middle;\n",
       "    }\n",
       "\n",
       "    .dataframe tbody tr th {\n",
       "        vertical-align: top;\n",
       "    }\n",
       "\n",
       "    .dataframe thead th {\n",
       "        text-align: right;\n",
       "    }\n",
       "</style>\n",
       "<table border=\"1\" class=\"dataframe\">\n",
       "  <thead>\n",
       "    <tr style=\"text-align: right;\">\n",
       "      <th></th>\n",
       "      <th>budget</th>\n",
       "      <th>gross</th>\n",
       "      <th>ww_gross</th>\n",
       "      <th>rating</th>\n",
       "    </tr>\n",
       "    <tr>\n",
       "      <th>tconst</th>\n",
       "      <th></th>\n",
       "      <th></th>\n",
       "      <th></th>\n",
       "      <th></th>\n",
       "    </tr>\n",
       "  </thead>\n",
       "  <tbody>\n",
       "    <tr>\n",
       "      <td>tt3567288</td>\n",
       "      <td>5000000</td>\n",
       "      <td>65206105</td>\n",
       "      <td>98450062</td>\n",
       "      <td>PG-13</td>\n",
       "    </tr>\n",
       "    <tr>\n",
       "      <td>tt3569230</td>\n",
       "      <td>30000000</td>\n",
       "      <td>1872994</td>\n",
       "      <td>42972994</td>\n",
       "      <td>R</td>\n",
       "    </tr>\n",
       "    <tr>\n",
       "      <td>tt3576728</td>\n",
       "      <td>30000000</td>\n",
       "      <td>490973</td>\n",
       "      <td>3087832</td>\n",
       "      <td>PG-13</td>\n",
       "    </tr>\n",
       "    <tr>\n",
       "      <td>tt3602422</td>\n",
       "      <td>1310000</td>\n",
       "      <td>38901</td>\n",
       "      <td>38901</td>\n",
       "      <td>R</td>\n",
       "    </tr>\n",
       "    <tr>\n",
       "      <td>tt3605418</td>\n",
       "      <td>2500000</td>\n",
       "      <td>36336</td>\n",
       "      <td>5567103</td>\n",
       "      <td>R</td>\n",
       "    </tr>\n",
       "    <tr>\n",
       "      <td>...</td>\n",
       "      <td>...</td>\n",
       "      <td>...</td>\n",
       "      <td>...</td>\n",
       "      <td>...</td>\n",
       "    </tr>\n",
       "    <tr>\n",
       "      <td>tt1605803</td>\n",
       "      <td>9000000</td>\n",
       "      <td>27000</td>\n",
       "      <td>27000</td>\n",
       "      <td>PG-13</td>\n",
       "    </tr>\n",
       "    <tr>\n",
       "      <td>tt1606378</td>\n",
       "      <td>92000000</td>\n",
       "      <td>67349198</td>\n",
       "      <td>304654182</td>\n",
       "      <td>R</td>\n",
       "    </tr>\n",
       "    <tr>\n",
       "      <td>tt1606389</td>\n",
       "      <td>30000000</td>\n",
       "      <td>125014030</td>\n",
       "      <td>196114570</td>\n",
       "      <td>PG-13</td>\n",
       "    </tr>\n",
       "    <tr>\n",
       "      <td>tt1608290</td>\n",
       "      <td>50000000</td>\n",
       "      <td>28848693</td>\n",
       "      <td>56722693</td>\n",
       "      <td>PG-13</td>\n",
       "    </tr>\n",
       "    <tr>\n",
       "      <td>tt1609488</td>\n",
       "      <td>350000</td>\n",
       "      <td>40645</td>\n",
       "      <td>40645</td>\n",
       "      <td>R</td>\n",
       "    </tr>\n",
       "  </tbody>\n",
       "</table>\n",
       "<p>1343 rows × 4 columns</p>\n",
       "</div>"
      ],
      "text/plain": [
       "             budget      gross   ww_gross rating\n",
       "tconst                                          \n",
       "tt3567288   5000000   65206105   98450062  PG-13\n",
       "tt3569230  30000000    1872994   42972994      R\n",
       "tt3576728  30000000     490973    3087832  PG-13\n",
       "tt3602422   1310000      38901      38901      R\n",
       "tt3605418   2500000      36336    5567103      R\n",
       "...             ...        ...        ...    ...\n",
       "tt1605803   9000000      27000      27000  PG-13\n",
       "tt1606378  92000000   67349198  304654182      R\n",
       "tt1606389  30000000  125014030  196114570  PG-13\n",
       "tt1608290  50000000   28848693   56722693  PG-13\n",
       "tt1609488    350000      40645      40645      R\n",
       "\n",
       "[1343 rows x 4 columns]"
      ]
     },
     "execution_count": 7,
     "metadata": {},
     "output_type": "execute_result"
    }
   ],
   "source": [
    "# Cleaning up scraped money to remove zeros and null values\n",
    "# Setting each relevent column to integers\n",
    "df['rating'] = df['rating'].map(lambda x: np.NaN if x not in ratings else x)\n",
    "df['budget'] = df['budget'].map(lambda x: np.NaN if x in[None, 0, '0'] else x)\n",
    "df['gross'] = df['gross'].map(lambda x: np.NaN if x in[None, 0, '0'] else x)\n",
    "df['ww_gross'] = df['ww_gross'].map(lambda x: np.NaN if x in[None, 0] else x)\n",
    "df = df.dropna()\n",
    "df['budget'] = df['budget'].astype('int64')\n",
    "df['ww_gross'] = df['ww_gross'].astype('int64')\n",
    "df['gross'] = df['gross'].astype('int64')\n",
    "df.head()"
   ]
  },
  {
   "cell_type": "markdown",
   "metadata": {},
   "source": [
    "### Plotting"
   ]
  },
  {
   "cell_type": "code",
   "execution_count": 8,
   "metadata": {
    "tags": []
   },
   "outputs": [
    {
     "data": {
      "image/png": "[encoded data removed]",
      "text/plain": [
       "<Figure size 864x684 with 1 Axes>"
      ]
     },
     "metadata": {
      "needs_background": "light"
     },
     "output_type": "display_data"
    }
   ],
   "source": [
    "fig, ax = plt.subplots(ncols=1, nrows=1, figsize=(12, 9.5))\n",
    "sns.regplot(\"budget\", \"ww_gross\", data=df, ax=ax)\n",
    "sns.regplot(\"budget\", \"gross\", data=df, ax=ax)\n",
    "\n",
    "# Prettify Plot\n",
    "ax.legend([\"Worldwide Gross\", \"Domestic Gross\"])\n",
    "ax.set_title(\"Domestic & Worldwide Gross to Budget\")\n",
    "ax.title.set_fontsize(20)\n",
    "ax.xaxis.label.set_fontsize(20)\n",
    "ax.yaxis.label.set_fontsize(20)\n",
    "ax.xaxis.label.set_text(\"Budget (Billions)\")\n",
    "ax.yaxis.label.set_text(\"Gross (Billions)\")\n",
    "ax.tick_params(axis='both', which='major', labelsize=15)\n",
    "\n",
    "# As you can see, movies that are worldwide make more money than domestic movies"
   ]
  },
  {
   "cell_type": "markdown",
   "metadata": {},
   "source": [
    "## Adding ROI and Combining Info Into Larger Frame"
   ]
  },
  {
   "cell_type": "code",
   "execution_count": 9,
   "metadata": {},
   "outputs": [
    {
     "data": {
      "text/html": [
       "<div>\n",
       "<style scoped>\n",
       "    .dataframe tbody tr th:only-of-type {\n",
       "        vertical-align: middle;\n",
       "    }\n",
       "\n",
       "    .dataframe tbody tr th {\n",
       "        vertical-align: top;\n",
       "    }\n",
       "\n",
       "    .dataframe thead th {\n",
       "        text-align: right;\n",
       "    }\n",
       "</style>\n",
       "<table border=\"1\" class=\"dataframe\">\n",
       "  <thead>\n",
       "    <tr style=\"text-align: right;\">\n",
       "      <th></th>\n",
       "      <th>budget</th>\n",
       "      <th>gross</th>\n",
       "      <th>ww_gross</th>\n",
       "      <th>rating</th>\n",
       "      <th>perc</th>\n",
       "    </tr>\n",
       "    <tr>\n",
       "      <th>tconst</th>\n",
       "      <th></th>\n",
       "      <th></th>\n",
       "      <th></th>\n",
       "      <th></th>\n",
       "      <th></th>\n",
       "    </tr>\n",
       "  </thead>\n",
       "  <tbody>\n",
       "    <tr>\n",
       "      <td>tt1560985</td>\n",
       "      <td>1000000</td>\n",
       "      <td>53261944</td>\n",
       "      <td>101758490</td>\n",
       "      <td>R</td>\n",
       "      <td>100.758490</td>\n",
       "    </tr>\n",
       "    <tr>\n",
       "      <td>tt7668870</td>\n",
       "      <td>880000</td>\n",
       "      <td>26020957</td>\n",
       "      <td>75462037</td>\n",
       "      <td>PG-13</td>\n",
       "      <td>84.752315</td>\n",
       "    </tr>\n",
       "    <tr>\n",
       "      <td>tt1591095</td>\n",
       "      <td>1500000</td>\n",
       "      <td>54009150</td>\n",
       "      <td>99557032</td>\n",
       "      <td>PG-13</td>\n",
       "      <td>65.371355</td>\n",
       "    </tr>\n",
       "    <tr>\n",
       "      <td>tt3713166</td>\n",
       "      <td>1000000</td>\n",
       "      <td>32482090</td>\n",
       "      <td>62882090</td>\n",
       "      <td>R</td>\n",
       "      <td>61.882090</td>\n",
       "    </tr>\n",
       "    <tr>\n",
       "      <td>tt5052448</td>\n",
       "      <td>4500000</td>\n",
       "      <td>176040665</td>\n",
       "      <td>272495873</td>\n",
       "      <td>R</td>\n",
       "      <td>59.554638</td>\n",
       "    </tr>\n",
       "    <tr>\n",
       "      <td>...</td>\n",
       "      <td>...</td>\n",
       "      <td>...</td>\n",
       "      <td>...</td>\n",
       "      <td>...</td>\n",
       "      <td>...</td>\n",
       "    </tr>\n",
       "    <tr>\n",
       "      <td>tt5303442</td>\n",
       "      <td>20000000</td>\n",
       "      <td>11255</td>\n",
       "      <td>11255</td>\n",
       "      <td>R</td>\n",
       "      <td>-0.999437</td>\n",
       "    </tr>\n",
       "    <tr>\n",
       "      <td>tt4414438</td>\n",
       "      <td>18000000</td>\n",
       "      <td>7162</td>\n",
       "      <td>7162</td>\n",
       "      <td>R</td>\n",
       "      <td>-0.999602</td>\n",
       "    </tr>\n",
       "    <tr>\n",
       "      <td>tt0762138</td>\n",
       "      <td>2500000</td>\n",
       "      <td>663</td>\n",
       "      <td>663</td>\n",
       "      <td>R</td>\n",
       "      <td>-0.999735</td>\n",
       "    </tr>\n",
       "    <tr>\n",
       "      <td>tt5143890</td>\n",
       "      <td>18000000</td>\n",
       "      <td>3259</td>\n",
       "      <td>3259</td>\n",
       "      <td>R</td>\n",
       "      <td>-0.999819</td>\n",
       "    </tr>\n",
       "    <tr>\n",
       "      <td>tt3789946</td>\n",
       "      <td>2124000</td>\n",
       "      <td>120</td>\n",
       "      <td>120</td>\n",
       "      <td>PG</td>\n",
       "      <td>-0.999944</td>\n",
       "    </tr>\n",
       "  </tbody>\n",
       "</table>\n",
       "<p>1343 rows × 5 columns</p>\n",
       "</div>"
      ],
      "text/plain": [
       "             budget      gross   ww_gross rating        perc\n",
       "tconst                                                      \n",
       "tt1560985   1000000   53261944  101758490      R  100.758490\n",
       "tt7668870    880000   26020957   75462037  PG-13   84.752315\n",
       "tt1591095   1500000   54009150   99557032  PG-13   65.371355\n",
       "tt3713166   1000000   32482090   62882090      R   61.882090\n",
       "tt5052448   4500000  176040665  272495873      R   59.554638\n",
       "...             ...        ...        ...    ...         ...\n",
       "tt5303442  20000000      11255      11255      R   -0.999437\n",
       "tt4414438  18000000       7162       7162      R   -0.999602\n",
       "tt0762138   2500000        663        663      R   -0.999735\n",
       "tt5143890  18000000       3259       3259      R   -0.999819\n",
       "tt3789946   2124000        120        120     PG   -0.999944\n",
       "\n",
       "[1343 rows x 5 columns]"
      ]
     },
     "execution_count": 9,
     "metadata": {},
     "output_type": "execute_result"
    }
   ],
   "source": [
    "# Take df(scraped_money) and add a column with the % difference of budget-> ww_gross\n",
    "# i.e ROI % (Return on investment %)\n",
    "def compare(budget, gross):\n",
    "    net = gross - budget\n",
    "    return net/budget\n",
    "df['perc'] = compare(df['budget'], df['ww_gross'])\n",
    "df.sort_values(by='perc', ascending=False)\n"
   ]
  },
  {
   "cell_type": "markdown",
   "metadata": {},
   "source": [
    "### Join Info to the Scraped Data"
   ]
  },
  {
   "cell_type": "code",
   "execution_count": 10,
   "metadata": {},
   "outputs": [],
   "source": [
    "q1 = \"\"\"\n",
    "SELECT DISTINCT tconst, primaryTitle, genres, budget, ww_gross, rating, perc, runtimeMinutes, directors, writers\n",
    "FROM df\n",
    "JOIN title_basics tb\n",
    "USING(tconst)\n",
    "JOIN title_crew tc\n",
    "USING(tconst)\n",
    "JOIN title_akas ta\n",
    "ON tconst = titleId\n",
    "\"\"\""
   ]
  },
  {
   "cell_type": "code",
   "execution_count": 11,
   "metadata": {
    "tags": []
   },
   "outputs": [
    {
     "data": {
      "text/html": [
       "<div>\n",
       "<style scoped>\n",
       "    .dataframe tbody tr th:only-of-type {\n",
       "        vertical-align: middle;\n",
       "    }\n",
       "\n",
       "    .dataframe tbody tr th {\n",
       "        vertical-align: top;\n",
       "    }\n",
       "\n",
       "    .dataframe thead th {\n",
       "        text-align: right;\n",
       "    }\n",
       "</style>\n",
       "<table border=\"1\" class=\"dataframe\">\n",
       "  <thead>\n",
       "    <tr style=\"text-align: right;\">\n",
       "      <th></th>\n",
       "      <th>tconst</th>\n",
       "      <th>primaryTitle</th>\n",
       "      <th>genres</th>\n",
       "      <th>budget</th>\n",
       "      <th>ww_gross</th>\n",
       "      <th>rating</th>\n",
       "      <th>perc</th>\n",
       "      <th>runtimeMinutes</th>\n",
       "      <th>directors</th>\n",
       "      <th>writers</th>\n",
       "    </tr>\n",
       "  </thead>\n",
       "  <tbody>\n",
       "    <tr>\n",
       "      <td>0</td>\n",
       "      <td>tt0326965</td>\n",
       "      <td>In My Sleep</td>\n",
       "      <td>Drama,Mystery,Thriller</td>\n",
       "      <td>1000000</td>\n",
       "      <td>30158</td>\n",
       "      <td>PG-13</td>\n",
       "      <td>-0.969842</td>\n",
       "      <td>104</td>\n",
       "      <td>nm1075006</td>\n",
       "      <td>nm1075006</td>\n",
       "    </tr>\n",
       "    <tr>\n",
       "      <td>1</td>\n",
       "      <td>tt0337692</td>\n",
       "      <td>On the Road</td>\n",
       "      <td>Adventure,Drama,Romance</td>\n",
       "      <td>25000000</td>\n",
       "      <td>9617377</td>\n",
       "      <td>R</td>\n",
       "      <td>-0.615305</td>\n",
       "      <td>124</td>\n",
       "      <td>nm0758574</td>\n",
       "      <td>nm0449616,nm1433580</td>\n",
       "    </tr>\n",
       "    <tr>\n",
       "      <td>2</td>\n",
       "      <td>tt0359950</td>\n",
       "      <td>The Secret Life of Walter Mitty</td>\n",
       "      <td>Comedy,Drama,Fantasy</td>\n",
       "      <td>90000000</td>\n",
       "      <td>188133322</td>\n",
       "      <td>PG</td>\n",
       "      <td>1.090370</td>\n",
       "      <td>114</td>\n",
       "      <td>nm0001774</td>\n",
       "      <td>nm0175726,nm0862122</td>\n",
       "    </tr>\n",
       "    <tr>\n",
       "      <td>3</td>\n",
       "      <td>tt0365907</td>\n",
       "      <td>A Walk Among the Tombstones</td>\n",
       "      <td>Action,Crime,Drama</td>\n",
       "      <td>28000000</td>\n",
       "      <td>58834384</td>\n",
       "      <td>R</td>\n",
       "      <td>1.101228</td>\n",
       "      <td>114</td>\n",
       "      <td>nm0291082</td>\n",
       "      <td>nm0088747,nm0291082</td>\n",
       "    </tr>\n",
       "    <tr>\n",
       "      <td>4</td>\n",
       "      <td>tt0369610</td>\n",
       "      <td>Jurassic World</td>\n",
       "      <td>Action,Adventure,Sci-Fi</td>\n",
       "      <td>150000000</td>\n",
       "      <td>1670400637</td>\n",
       "      <td>PG-13</td>\n",
       "      <td>10.136004</td>\n",
       "      <td>124</td>\n",
       "      <td>nm1119880</td>\n",
       "      <td>nm0415425,nm0798646,nm1119880,nm2081046,nm0000341</td>\n",
       "    </tr>\n",
       "    <tr>\n",
       "      <td>...</td>\n",
       "      <td>...</td>\n",
       "      <td>...</td>\n",
       "      <td>...</td>\n",
       "      <td>...</td>\n",
       "      <td>...</td>\n",
       "      <td>...</td>\n",
       "      <td>...</td>\n",
       "      <td>...</td>\n",
       "      <td>...</td>\n",
       "      <td>...</td>\n",
       "    </tr>\n",
       "    <tr>\n",
       "      <td>1332</td>\n",
       "      <td>tt9208444</td>\n",
       "      <td>Impractical Jokers: The Movie</td>\n",
       "      <td>Comedy</td>\n",
       "      <td>3000000</td>\n",
       "      <td>10691091</td>\n",
       "      <td>PG-13</td>\n",
       "      <td>2.563697</td>\n",
       "      <td>92</td>\n",
       "      <td>nm0376260</td>\n",
       "      <td>nm0376260,nm2665746,nm2098978,nm1978079,nm1742600</td>\n",
       "    </tr>\n",
       "    <tr>\n",
       "      <td>1333</td>\n",
       "      <td>tt9214832</td>\n",
       "      <td>Emma.</td>\n",
       "      <td>Comedy,Drama</td>\n",
       "      <td>10000000</td>\n",
       "      <td>25587304</td>\n",
       "      <td>PG</td>\n",
       "      <td>1.558730</td>\n",
       "      <td>124</td>\n",
       "      <td>nm2127315</td>\n",
       "      <td>nm7414254,nm0000807</td>\n",
       "    </tr>\n",
       "    <tr>\n",
       "      <td>1334</td>\n",
       "      <td>tt9354944</td>\n",
       "      <td>Jexi</td>\n",
       "      <td>Comedy,Romance</td>\n",
       "      <td>5000000</td>\n",
       "      <td>9342073</td>\n",
       "      <td>R</td>\n",
       "      <td>0.868415</td>\n",
       "      <td>84</td>\n",
       "      <td>nm0524190,nm0601859</td>\n",
       "      <td>nm0524190,nm0601859</td>\n",
       "    </tr>\n",
       "    <tr>\n",
       "      <td>1335</td>\n",
       "      <td>tt9426210</td>\n",
       "      <td>Weathering with You</td>\n",
       "      <td>Animation,Drama,Family</td>\n",
       "      <td>11100000</td>\n",
       "      <td>193168568</td>\n",
       "      <td>PG-13</td>\n",
       "      <td>16.402574</td>\n",
       "      <td>112</td>\n",
       "      <td>nm1396121</td>\n",
       "      <td>nm1396121</td>\n",
       "    </tr>\n",
       "    <tr>\n",
       "      <td>1336</td>\n",
       "      <td>tt9779516</td>\n",
       "      <td>I Still Believe</td>\n",
       "      <td>Biography,Drama,Music</td>\n",
       "      <td>12000000</td>\n",
       "      <td>11502842</td>\n",
       "      <td>PG</td>\n",
       "      <td>-0.041430</td>\n",
       "      <td>116</td>\n",
       "      <td>nm3401779,nm2296528</td>\n",
       "      <td>nm1705229,nm2296528,nm0348197</td>\n",
       "    </tr>\n",
       "  </tbody>\n",
       "</table>\n",
       "<p>1337 rows × 10 columns</p>\n",
       "</div>"
      ],
      "text/plain": [
       "         tconst                     primaryTitle                   genres  \\\n",
       "0     tt0326965                      In My Sleep   Drama,Mystery,Thriller   \n",
       "1     tt0337692                      On the Road  Adventure,Drama,Romance   \n",
       "2     tt0359950  The Secret Life of Walter Mitty     Comedy,Drama,Fantasy   \n",
       "3     tt0365907      A Walk Among the Tombstones       Action,Crime,Drama   \n",
       "4     tt0369610                   Jurassic World  Action,Adventure,Sci-Fi   \n",
       "...         ...                              ...                      ...   \n",
       "1332  tt9208444    Impractical Jokers: The Movie                   Comedy   \n",
       "1333  tt9214832                            Emma.             Comedy,Drama   \n",
       "1334  tt9354944                             Jexi           Comedy,Romance   \n",
       "1335  tt9426210              Weathering with You   Animation,Drama,Family   \n",
       "1336  tt9779516                  I Still Believe    Biography,Drama,Music   \n",
       "\n",
       "         budget    ww_gross rating       perc runtimeMinutes  \\\n",
       "0       1000000       30158  PG-13  -0.969842            104   \n",
       "1      25000000     9617377      R  -0.615305            124   \n",
       "2      90000000   188133322     PG   1.090370            114   \n",
       "3      28000000    58834384      R   1.101228            114   \n",
       "4     150000000  1670400637  PG-13  10.136004            124   \n",
       "...         ...         ...    ...        ...            ...   \n",
       "1332    3000000    10691091  PG-13   2.563697             92   \n",
       "1333   10000000    25587304     PG   1.558730            124   \n",
       "1334    5000000     9342073      R   0.868415             84   \n",
       "1335   11100000   193168568  PG-13  16.402574            112   \n",
       "1336   12000000    11502842     PG  -0.041430            116   \n",
       "\n",
       "                directors                                            writers  \n",
       "0               nm1075006                                          nm1075006  \n",
       "1               nm0758574                                nm0449616,nm1433580  \n",
       "2               nm0001774                                nm0175726,nm0862122  \n",
       "3               nm0291082                                nm0088747,nm0291082  \n",
       "4               nm1119880  nm0415425,nm0798646,nm1119880,nm2081046,nm0000341  \n",
       "...                   ...                                                ...  \n",
       "1332            nm0376260  nm0376260,nm2665746,nm2098978,nm1978079,nm1742600  \n",
       "1333            nm2127315                                nm7414254,nm0000807  \n",
       "1334  nm0524190,nm0601859                                nm0524190,nm0601859  \n",
       "1335            nm1396121                                          nm1396121  \n",
       "1336  nm3401779,nm2296528                      nm1705229,nm2296528,nm0348197  \n",
       "\n",
       "[1337 rows x 10 columns]"
      ]
     },
     "execution_count": 11,
     "metadata": {},
     "output_type": "execute_result"
    }
   ],
   "source": [
    "# Join directors, writers, runtime, title, and genres to my scraped dataframe\n",
    "# on 'tconst'.\n",
    "called_df = ps.sqldf(q1, locals())\n",
    "called_df"
   ]
  },
  {
   "cell_type": "markdown",
   "metadata": {},
   "source": [
    "### Min and Max ROIs"
   ]
  },
  {
   "cell_type": "code",
   "execution_count": 12,
   "metadata": {},
   "outputs": [
    {
     "data": {
      "text/html": [
       "<div>\n",
       "<style scoped>\n",
       "    .dataframe tbody tr th:only-of-type {\n",
       "        vertical-align: middle;\n",
       "    }\n",
       "\n",
       "    .dataframe tbody tr th {\n",
       "        vertical-align: top;\n",
       "    }\n",
       "\n",
       "    .dataframe thead th {\n",
       "        text-align: right;\n",
       "    }\n",
       "</style>\n",
       "<table border=\"1\" class=\"dataframe\">\n",
       "  <thead>\n",
       "    <tr style=\"text-align: right;\">\n",
       "      <th></th>\n",
       "      <th>tconst</th>\n",
       "      <th>primaryTitle</th>\n",
       "      <th>genres</th>\n",
       "      <th>budget</th>\n",
       "      <th>ww_gross</th>\n",
       "      <th>rating</th>\n",
       "      <th>perc</th>\n",
       "      <th>runtimeMinutes</th>\n",
       "      <th>directors</th>\n",
       "      <th>writers</th>\n",
       "    </tr>\n",
       "  </thead>\n",
       "  <tbody>\n",
       "    <tr>\n",
       "      <td>653</td>\n",
       "      <td>tt1560985</td>\n",
       "      <td>The Devil Inside</td>\n",
       "      <td>Horror</td>\n",
       "      <td>1000000</td>\n",
       "      <td>101758490</td>\n",
       "      <td>R</td>\n",
       "      <td>100.75849</td>\n",
       "      <td>83</td>\n",
       "      <td>nm0068587</td>\n",
       "      <td>nm0068587,nm1834343</td>\n",
       "    </tr>\n",
       "  </tbody>\n",
       "</table>\n",
       "</div>"
      ],
      "text/plain": [
       "        tconst      primaryTitle  genres   budget   ww_gross rating  \\\n",
       "653  tt1560985  The Devil Inside  Horror  1000000  101758490      R   \n",
       "\n",
       "          perc runtimeMinutes  directors              writers  \n",
       "653  100.75849             83  nm0068587  nm0068587,nm1834343  "
      ]
     },
     "execution_count": 12,
     "metadata": {},
     "output_type": "execute_result"
    }
   ],
   "source": [
    "# highest ROI\n",
    "highest = called_df.loc[called_df['perc'] > 100]\n",
    "# https://www.imdb.com/title/tt1560985/\n",
    "highest  # Equivalent to returning just over 100x of budget"
   ]
  },
  {
   "cell_type": "code",
   "execution_count": 13,
   "metadata": {},
   "outputs": [
    {
     "data": {
      "text/html": [
       "<div>\n",
       "<style scoped>\n",
       "    .dataframe tbody tr th:only-of-type {\n",
       "        vertical-align: middle;\n",
       "    }\n",
       "\n",
       "    .dataframe tbody tr th {\n",
       "        vertical-align: top;\n",
       "    }\n",
       "\n",
       "    .dataframe thead th {\n",
       "        text-align: right;\n",
       "    }\n",
       "</style>\n",
       "<table border=\"1\" class=\"dataframe\">\n",
       "  <thead>\n",
       "    <tr style=\"text-align: right;\">\n",
       "      <th></th>\n",
       "      <th>tconst</th>\n",
       "      <th>primaryTitle</th>\n",
       "      <th>genres</th>\n",
       "      <th>budget</th>\n",
       "      <th>ww_gross</th>\n",
       "      <th>rating</th>\n",
       "      <th>perc</th>\n",
       "      <th>runtimeMinutes</th>\n",
       "      <th>directors</th>\n",
       "      <th>writers</th>\n",
       "    </tr>\n",
       "  </thead>\n",
       "  <tbody>\n",
       "    <tr>\n",
       "      <td>859</td>\n",
       "      <td>tt3789946</td>\n",
       "      <td>Mummy, I'm A Zombie</td>\n",
       "      <td>Animation</td>\n",
       "      <td>2124000</td>\n",
       "      <td>120</td>\n",
       "      <td>PG</td>\n",
       "      <td>-0.999944</td>\n",
       "      <td>82</td>\n",
       "      <td>nm4901407,nm0709349,nm0482452</td>\n",
       "      <td>nm4901908</td>\n",
       "    </tr>\n",
       "  </tbody>\n",
       "</table>\n",
       "</div>"
      ],
      "text/plain": [
       "        tconst         primaryTitle     genres   budget  ww_gross rating  \\\n",
       "859  tt3789946  Mummy, I'm A Zombie  Animation  2124000       120     PG   \n",
       "\n",
       "         perc runtimeMinutes                      directors    writers  \n",
       "859 -0.999944             82  nm4901407,nm0709349,nm0482452  nm4901908  "
      ]
     },
     "execution_count": 13,
     "metadata": {},
     "output_type": "execute_result"
    }
   ],
   "source": [
    "# lowest ROI\n",
    "lowest = called_df.loc[called_df['perc'] < -.9999]\n",
    "# https://www.imdb.com/title/tt3789946/\n",
    "lowest  # Equivalent to a nearly 100% loss"
   ]
  },
  {
   "cell_type": "markdown",
   "metadata": {},
   "source": [
    "## Plotting Top Genres"
   ]
  },
  {
   "cell_type": "markdown",
   "metadata": {},
   "source": [
    "### Cleaning"
   ]
  },
  {
   "cell_type": "code",
   "execution_count": 14,
   "metadata": {
    "tags": []
   },
   "outputs": [],
   "source": [
    "# Top genre list from Max. Generated by comparing each genre median/mean to the median/mean of all.\n",
    "# https://github.com/zero731\n",
    "genre_list = ['Thriller',  'Animation',  'Sci-Fi',  'Mystery',  'Music',\n",
    "              'Adventure',  'Fantasy',  'Comedy']\n",
    "def fix_genre(genres):\n",
    "    \"\"\"Function to split the genres into lists,\n",
    "    and remove genres that are not in the list\"\"\"\n",
    "    new_genres = []\n",
    "    genres = genres.split(',')\n",
    "    for g in genres:\n",
    "        if g in genre_list:\n",
    "            new_genres.append(g)\n",
    "    return new_genres\n",
    "genre_df = called_df.copy(deep=True).dropna()\n",
    "genre_df['genres'] = genre_df['genres'].apply(lambda x: fix_genre(x))\n",
    "\n",
    "# Remove movies that no longer have a genre\n",
    "genre_df['genres'] = genre_df['genres'].map(lambda x: np.NaN if not x else x)\n",
    "genre_df = genre_df.dropna()"
   ]
  },
  {
   "cell_type": "code",
   "execution_count": 15,
   "metadata": {},
   "outputs": [],
   "source": [
    "# Explode genres\n",
    "# i.e  ['Comedy', 'Animation'] to one row of 'Animation' and one of 'Comedy'\n",
    "genre_df = genre_df.explode(column='genres')"
   ]
  },
  {
   "cell_type": "code",
   "execution_count": 16,
   "metadata": {
    "tags": []
   },
   "outputs": [],
   "source": [
    "# Sort by ROI %\n",
    "genre_df = genre_df.sort_values(by='perc', ascending=False)\n",
    "genre_df['runtimeMinutes'] = genre_df['runtimeMinutes'].astype('int64')"
   ]
  },
  {
   "cell_type": "markdown",
   "metadata": {},
   "source": [
    "### Plotting"
   ]
  },
  {
   "cell_type": "code",
   "execution_count": 17,
   "metadata": {},
   "outputs": [
    {
     "data": {
      "image/png": "[encoded data removed]",
      "text/plain": [
       "<Figure size 864x684 with 1 Axes>"
      ]
     },
     "metadata": {
      "needs_background": "light"
     },
     "output_type": "display_data"
    }
   ],
   "source": [
    "# Which genre would make the most\n",
    "fig, ax = plt.subplots(figsize=(12, 9.5))\n",
    "dicta = genre_df['genres'][0:200].value_counts().to_dict()\n",
    "ax.bar(dicta.keys(), dicta.values())\n",
    "\n",
    "dicta = genre_df['genres'][0:100].value_counts().to_dict()\n",
    "ax.bar(dicta.keys(), dicta.values())\n",
    "\n",
    "dicta = genre_df['genres'][0:50].value_counts().to_dict()\n",
    "ax.bar(dicta.keys(), dicta.values())\n",
    "\n",
    "# Prettify plot\n",
    "ax.legend([\"Top 200\", \"Top 100\", \"Top 50\"])\n",
    "ax.set_title(\"Genre vs Return On Investment %\")\n",
    "ax.title.set_fontsize(20)\n",
    "ax.yaxis.label.set_fontsize(17)\n",
    "ax.yaxis.label.set_text(\"Quanity\")\n",
    "ax.tick_params(axis='both', which='major', labelsize=15)\n",
    "\n",
    "# Comedy or thriller seem to take the cake"
   ]
  },
  {
   "cell_type": "markdown",
   "metadata": {},
   "source": [
    "## Directors"
   ]
  },
  {
   "cell_type": "markdown",
   "metadata": {},
   "source": [
    "### Getting the Names of directors and writers"
   ]
  },
  {
   "cell_type": "code",
   "execution_count": 18,
   "metadata": {},
   "outputs": [
    {
     "data": {
      "text/html": [
       "<div>\n",
       "<style scoped>\n",
       "    .dataframe tbody tr th:only-of-type {\n",
       "        vertical-align: middle;\n",
       "    }\n",
       "\n",
       "    .dataframe tbody tr th {\n",
       "        vertical-align: top;\n",
       "    }\n",
       "\n",
       "    .dataframe thead th {\n",
       "        text-align: right;\n",
       "    }\n",
       "</style>\n",
       "<table border=\"1\" class=\"dataframe\">\n",
       "  <thead>\n",
       "    <tr style=\"text-align: right;\">\n",
       "      <th></th>\n",
       "      <th>nconst</th>\n",
       "      <th>primaryName</th>\n",
       "      <th>birthYear</th>\n",
       "      <th>deathYear</th>\n",
       "      <th>primaryProfession</th>\n",
       "      <th>knownForTitles</th>\n",
       "    </tr>\n",
       "  </thead>\n",
       "  <tbody>\n",
       "    <tr>\n",
       "      <td>0</td>\n",
       "      <td>nm0000001</td>\n",
       "      <td>Fred Astaire</td>\n",
       "      <td>1899</td>\n",
       "      <td>1987</td>\n",
       "      <td>soundtrack,actor,miscellaneous</td>\n",
       "      <td>tt0053137,tt0031983,tt0050419,tt0072308</td>\n",
       "    </tr>\n",
       "    <tr>\n",
       "      <td>1</td>\n",
       "      <td>nm0000002</td>\n",
       "      <td>Lauren Bacall</td>\n",
       "      <td>1924</td>\n",
       "      <td>2014</td>\n",
       "      <td>actress,soundtrack</td>\n",
       "      <td>tt0071877,tt0038355,tt0117057,tt0037382</td>\n",
       "    </tr>\n",
       "    <tr>\n",
       "      <td>2</td>\n",
       "      <td>nm0000003</td>\n",
       "      <td>Brigitte Bardot</td>\n",
       "      <td>1934</td>\n",
       "      <td>\\N</td>\n",
       "      <td>actress,soundtrack,music_department</td>\n",
       "      <td>tt0054452,tt0057345,tt0059956,tt0049189</td>\n",
       "    </tr>\n",
       "    <tr>\n",
       "      <td>3</td>\n",
       "      <td>nm0000004</td>\n",
       "      <td>John Belushi</td>\n",
       "      <td>1949</td>\n",
       "      <td>1982</td>\n",
       "      <td>actor,soundtrack,writer</td>\n",
       "      <td>tt0078723,tt0080455,tt0077975,tt0072562</td>\n",
       "    </tr>\n",
       "    <tr>\n",
       "      <td>4</td>\n",
       "      <td>nm0000005</td>\n",
       "      <td>Ingmar Bergman</td>\n",
       "      <td>1918</td>\n",
       "      <td>2007</td>\n",
       "      <td>writer,director,actor</td>\n",
       "      <td>tt0060827,tt0050976,tt0083922,tt0050986</td>\n",
       "    </tr>\n",
       "  </tbody>\n",
       "</table>\n",
       "</div>"
      ],
      "text/plain": [
       "      nconst      primaryName birthYear deathYear  \\\n",
       "0  nm0000001     Fred Astaire      1899      1987   \n",
       "1  nm0000002    Lauren Bacall      1924      2014   \n",
       "2  nm0000003  Brigitte Bardot      1934        \\N   \n",
       "3  nm0000004     John Belushi      1949      1982   \n",
       "4  nm0000005   Ingmar Bergman      1918      2007   \n",
       "\n",
       "                     primaryProfession  \\\n",
       "0       soundtrack,actor,miscellaneous   \n",
       "1                   actress,soundtrack   \n",
       "2  actress,soundtrack,music_department   \n",
       "3              actor,soundtrack,writer   \n",
       "4                writer,director,actor   \n",
       "\n",
       "                            knownForTitles  \n",
       "0  tt0053137,tt0031983,tt0050419,tt0072308  \n",
       "1  tt0071877,tt0038355,tt0117057,tt0037382  \n",
       "2  tt0054452,tt0057345,tt0059956,tt0049189  \n",
       "3  tt0078723,tt0080455,tt0077975,tt0072562  \n",
       "4  tt0060827,tt0050976,tt0083922,tt0050986  "
      ]
     },
     "execution_count": 18,
     "metadata": {},
     "output_type": "execute_result"
    }
   ],
   "source": [
    "# Creating a dataframe of all the names to pull out director's and writer's names\n",
    "q2 = \"\"\"\n",
    "SELECT *\n",
    "FROM name_basics\n",
    "\"\"\"\n",
    "name_df = ps.sqldf(q2, locals())\n",
    "name_df.head()  # Name Dataframe"
   ]
  },
  {
   "cell_type": "code",
   "execution_count": 19,
   "metadata": {},
   "outputs": [
    {
     "data": {
      "text/html": [
       "<div>\n",
       "<style scoped>\n",
       "    .dataframe tbody tr th:only-of-type {\n",
       "        vertical-align: middle;\n",
       "    }\n",
       "\n",
       "    .dataframe tbody tr th {\n",
       "        vertical-align: top;\n",
       "    }\n",
       "\n",
       "    .dataframe thead th {\n",
       "        text-align: right;\n",
       "    }\n",
       "</style>\n",
       "<table border=\"1\" class=\"dataframe\">\n",
       "  <thead>\n",
       "    <tr style=\"text-align: right;\">\n",
       "      <th></th>\n",
       "      <th>primaryName</th>\n",
       "      <th>birthYear</th>\n",
       "      <th>deathYear</th>\n",
       "      <th>primaryProfession</th>\n",
       "      <th>knownForTitles</th>\n",
       "    </tr>\n",
       "    <tr>\n",
       "      <th>nconst</th>\n",
       "      <th></th>\n",
       "      <th></th>\n",
       "      <th></th>\n",
       "      <th></th>\n",
       "      <th></th>\n",
       "    </tr>\n",
       "  </thead>\n",
       "  <tbody>\n",
       "    <tr>\n",
       "      <td>nm0000001</td>\n",
       "      <td>Fred Astaire</td>\n",
       "      <td>1899</td>\n",
       "      <td>1987</td>\n",
       "      <td>soundtrack,actor,miscellaneous</td>\n",
       "      <td>tt0053137,tt0031983,tt0050419,tt0072308</td>\n",
       "    </tr>\n",
       "    <tr>\n",
       "      <td>nm0000002</td>\n",
       "      <td>Lauren Bacall</td>\n",
       "      <td>1924</td>\n",
       "      <td>2014</td>\n",
       "      <td>actress,soundtrack</td>\n",
       "      <td>tt0071877,tt0038355,tt0117057,tt0037382</td>\n",
       "    </tr>\n",
       "    <tr>\n",
       "      <td>nm0000003</td>\n",
       "      <td>Brigitte Bardot</td>\n",
       "      <td>1934</td>\n",
       "      <td>\\N</td>\n",
       "      <td>actress,soundtrack,music_department</td>\n",
       "      <td>tt0054452,tt0057345,tt0059956,tt0049189</td>\n",
       "    </tr>\n",
       "    <tr>\n",
       "      <td>nm0000004</td>\n",
       "      <td>John Belushi</td>\n",
       "      <td>1949</td>\n",
       "      <td>1982</td>\n",
       "      <td>actor,soundtrack,writer</td>\n",
       "      <td>tt0078723,tt0080455,tt0077975,tt0072562</td>\n",
       "    </tr>\n",
       "    <tr>\n",
       "      <td>nm0000005</td>\n",
       "      <td>Ingmar Bergman</td>\n",
       "      <td>1918</td>\n",
       "      <td>2007</td>\n",
       "      <td>writer,director,actor</td>\n",
       "      <td>tt0060827,tt0050976,tt0083922,tt0050986</td>\n",
       "    </tr>\n",
       "  </tbody>\n",
       "</table>\n",
       "</div>"
      ],
      "text/plain": [
       "               primaryName birthYear deathYear  \\\n",
       "nconst                                           \n",
       "nm0000001     Fred Astaire      1899      1987   \n",
       "nm0000002    Lauren Bacall      1924      2014   \n",
       "nm0000003  Brigitte Bardot      1934        \\N   \n",
       "nm0000004     John Belushi      1949      1982   \n",
       "nm0000005   Ingmar Bergman      1918      2007   \n",
       "\n",
       "                             primaryProfession  \\\n",
       "nconst                                           \n",
       "nm0000001       soundtrack,actor,miscellaneous   \n",
       "nm0000002                   actress,soundtrack   \n",
       "nm0000003  actress,soundtrack,music_department   \n",
       "nm0000004              actor,soundtrack,writer   \n",
       "nm0000005                writer,director,actor   \n",
       "\n",
       "                                    knownForTitles  \n",
       "nconst                                              \n",
       "nm0000001  tt0053137,tt0031983,tt0050419,tt0072308  \n",
       "nm0000002  tt0071877,tt0038355,tt0117057,tt0037382  \n",
       "nm0000003  tt0054452,tt0057345,tt0059956,tt0049189  \n",
       "nm0000004  tt0078723,tt0080455,tt0077975,tt0072562  \n",
       "nm0000005  tt0060827,tt0050976,tt0083922,tt0050986  "
      ]
     },
     "execution_count": 19,
     "metadata": {},
     "output_type": "execute_result"
    }
   ],
   "source": [
    "name_df = name_df.set_index('nconst')\n",
    "name_df.head()"
   ]
  },
  {
   "cell_type": "markdown",
   "metadata": {},
   "source": [
    "### Plotting ROI vs Director Quantity"
   ]
  },
  {
   "cell_type": "markdown",
   "metadata": {},
   "source": [
    "#### Cleaning"
   ]
  },
  {
   "cell_type": "code",
   "execution_count": 65,
   "metadata": {},
   "outputs": [],
   "source": [
    "# Copy called_df, split directors column, and get the quantity of those splits\n",
    "director_split_df = called_df.copy(deep=True)\n",
    "director_split_df['directors'] = director_split_df['directors'].map(\n",
    "    lambda x: x.split(','))\n",
    "director_split_df['director_count'] = director_split_df['directors'].map(\n",
    "    lambda x: len(x))"
   ]
  },
  {
   "cell_type": "markdown",
   "metadata": {},
   "source": [
    "#### Plotting"
   ]
  },
  {
   "cell_type": "code",
   "execution_count": 66,
   "metadata": {},
   "outputs": [
    {
     "data": {
      "image/png": "[encoded data removed]",
      "text/plain": [
       "<Figure size 864x684 with 1 Axes>"
      ]
     },
     "metadata": {
      "needs_background": "light"
     },
     "output_type": "display_data"
    }
   ],
   "source": [
    "# How many directors would be ideal\n",
    "fig, ax = plt.subplots(figsize=(12, 9.5))\n",
    "sns.regplot(\"director_count\", \"perc\", data=director_split_df, ax=ax)\n",
    "\n",
    "# Prettify plot\n",
    "ax.set_title(\"ROI % vs Quantity of Directors\")\n",
    "ax.title.set_fontsize(20)\n",
    "ax.xaxis.label.set_fontsize(20)\n",
    "ax.yaxis.label.set_fontsize(20)\n",
    "ax.xaxis.label.set_text(\"Director Count\")\n",
    "ax.yaxis.label.set_text(\"Return on Budget %\")\n",
    "ax.tick_params(axis='both', which='major', labelsize=15)\n",
    "\n",
    "# The graph is showing a downward trend the more directors you have\n",
    "# So one director would be the best case for Microsoft."
   ]
  },
  {
   "cell_type": "markdown",
   "metadata": {},
   "source": [
    "### Plotting Directors vs Mean ROI\n"
   ]
  },
  {
   "cell_type": "markdown",
   "metadata": {},
   "source": [
    "#### Cleaning"
   ]
  },
  {
   "cell_type": "code",
   "execution_count": 67,
   "metadata": {},
   "outputs": [],
   "source": [
    "# Remove movies that have more than one director\n",
    "director_split_df['director_count'] = director_split_df['director_count'].apply(\n",
    "    lambda x: 1 if x == 1 else np.NaN)\n",
    "director_split_df = director_split_df.dropna()\n",
    "director_split_df = director_split_df.drop(columns=['director_count'])\n",
    "director_split_df['directors'] =  director_split_df['directors'].apply(\n",
    "    lambda x: x[0])"
   ]
  },
  {
   "cell_type": "code",
   "execution_count": 68,
   "metadata": {},
   "outputs": [
    {
     "data": {
      "text/plain": [
       "nm1347153    7.0\n",
       "nm0000229    6.0\n",
       "nm0000095    5.0\n",
       "nm0000631    5.0\n",
       "nm0000318    5.0\n",
       "Name: directors, dtype: float64"
      ]
     },
     "execution_count": 68,
     "metadata": {},
     "output_type": "execute_result"
    }
   ],
   "source": [
    "# Get the directors that have made more than one movie\n",
    "x_directors = director_split_df['directors'].value_counts().apply(\n",
    "    lambda x: np.NaN if x < 2 else x).dropna()\n",
    "x_directors[0:5]"
   ]
  },
  {
   "cell_type": "code",
   "execution_count": 69,
   "metadata": {},
   "outputs": [
    {
     "data": {
      "text/html": [
       "<div>\n",
       "<style scoped>\n",
       "    .dataframe tbody tr th:only-of-type {\n",
       "        vertical-align: middle;\n",
       "    }\n",
       "\n",
       "    .dataframe tbody tr th {\n",
       "        vertical-align: top;\n",
       "    }\n",
       "\n",
       "    .dataframe thead th {\n",
       "        text-align: right;\n",
       "    }\n",
       "</style>\n",
       "<table border=\"1\" class=\"dataframe\">\n",
       "  <thead>\n",
       "    <tr style=\"text-align: right;\">\n",
       "      <th></th>\n",
       "      <th>tconst</th>\n",
       "      <th>primaryTitle</th>\n",
       "      <th>genres</th>\n",
       "      <th>budget</th>\n",
       "      <th>ww_gross</th>\n",
       "      <th>rating</th>\n",
       "      <th>perc</th>\n",
       "      <th>runtimeMinutes</th>\n",
       "      <th>directors</th>\n",
       "      <th>writers</th>\n",
       "    </tr>\n",
       "  </thead>\n",
       "  <tbody>\n",
       "    <tr>\n",
       "      <td>2</td>\n",
       "      <td>tt0359950</td>\n",
       "      <td>The Secret Life of Walter Mitty</td>\n",
       "      <td>Comedy,Drama,Fantasy</td>\n",
       "      <td>90000000</td>\n",
       "      <td>188133322</td>\n",
       "      <td>PG</td>\n",
       "      <td>1.090370</td>\n",
       "      <td>114</td>\n",
       "      <td>nm0001774</td>\n",
       "      <td>nm0175726,nm0862122</td>\n",
       "    </tr>\n",
       "    <tr>\n",
       "      <td>4</td>\n",
       "      <td>tt0369610</td>\n",
       "      <td>Jurassic World</td>\n",
       "      <td>Action,Adventure,Sci-Fi</td>\n",
       "      <td>150000000</td>\n",
       "      <td>1670400637</td>\n",
       "      <td>PG-13</td>\n",
       "      <td>10.136004</td>\n",
       "      <td>124</td>\n",
       "      <td>nm1119880</td>\n",
       "      <td>nm0415425,nm0798646,nm1119880,nm2081046,nm0000341</td>\n",
       "    </tr>\n",
       "    <tr>\n",
       "      <td>11</td>\n",
       "      <td>tt0409847</td>\n",
       "      <td>Cowboys &amp; Aliens</td>\n",
       "      <td>Action,Sci-Fi,Thriller</td>\n",
       "      <td>163000000</td>\n",
       "      <td>174822325</td>\n",
       "      <td>PG-13</td>\n",
       "      <td>0.072530</td>\n",
       "      <td>119</td>\n",
       "      <td>nm0269463</td>\n",
       "      <td>nm0649460,nm0476064,nm0511541,nm1318843,nm1319...</td>\n",
       "    </tr>\n",
       "    <tr>\n",
       "      <td>12</td>\n",
       "      <td>tt0427152</td>\n",
       "      <td>Dinner for Schmucks</td>\n",
       "      <td>Comedy</td>\n",
       "      <td>69000000</td>\n",
       "      <td>86855739</td>\n",
       "      <td>PG-13</td>\n",
       "      <td>0.258779</td>\n",
       "      <td>114</td>\n",
       "      <td>nm0005366</td>\n",
       "      <td>nm1115862,nm1911349,nm0891554</td>\n",
       "    </tr>\n",
       "    <tr>\n",
       "      <td>13</td>\n",
       "      <td>tt0429493</td>\n",
       "      <td>The A-Team</td>\n",
       "      <td>Action,Adventure,Thriller</td>\n",
       "      <td>110000000</td>\n",
       "      <td>177238796</td>\n",
       "      <td>PG-13</td>\n",
       "      <td>0.611262</td>\n",
       "      <td>117</td>\n",
       "      <td>nm0138620</td>\n",
       "      <td>nm0138620,nm0089141,nm0940790,nm0526967,nm0004798</td>\n",
       "    </tr>\n",
       "  </tbody>\n",
       "</table>\n",
       "</div>"
      ],
      "text/plain": [
       "       tconst                     primaryTitle                     genres  \\\n",
       "2   tt0359950  The Secret Life of Walter Mitty       Comedy,Drama,Fantasy   \n",
       "4   tt0369610                   Jurassic World    Action,Adventure,Sci-Fi   \n",
       "11  tt0409847                 Cowboys & Aliens     Action,Sci-Fi,Thriller   \n",
       "12  tt0427152              Dinner for Schmucks                     Comedy   \n",
       "13  tt0429493                       The A-Team  Action,Adventure,Thriller   \n",
       "\n",
       "       budget    ww_gross rating       perc runtimeMinutes  directors  \\\n",
       "2    90000000   188133322     PG   1.090370            114  nm0001774   \n",
       "4   150000000  1670400637  PG-13  10.136004            124  nm1119880   \n",
       "11  163000000   174822325  PG-13   0.072530            119  nm0269463   \n",
       "12   69000000    86855739  PG-13   0.258779            114  nm0005366   \n",
       "13  110000000   177238796  PG-13   0.611262            117  nm0138620   \n",
       "\n",
       "                                              writers  \n",
       "2                                 nm0175726,nm0862122  \n",
       "4   nm0415425,nm0798646,nm1119880,nm2081046,nm0000341  \n",
       "11  nm0649460,nm0476064,nm0511541,nm1318843,nm1319...  \n",
       "12                      nm1115862,nm1911349,nm0891554  \n",
       "13  nm0138620,nm0089141,nm0940790,nm0526967,nm0004798  "
      ]
     },
     "execution_count": 69,
     "metadata": {},
     "output_type": "execute_result"
    }
   ],
   "source": [
    "# Remove all but said directors from df\n",
    "director_split_df['directors'] = director_split_df['directors'].apply(\n",
    "    lambda x: x if x in x_directors else np.NaN)\n",
    "director_split_df = director_split_df.dropna()\n",
    "director_split_df.head()"
   ]
  },
  {
   "cell_type": "code",
   "execution_count": 70,
   "metadata": {},
   "outputs": [],
   "source": [
    "# Apply the real names to the director dataframe\n",
    "director_split_df['name'] = director_split_df['directors'].apply(\n",
    "                                lambda x: name_df.loc[x]['primaryName'])"
   ]
  },
  {
   "cell_type": "code",
   "execution_count": 71,
   "metadata": {},
   "outputs": [],
   "source": [
    "# Create an order sequence of top 10 directors by mean\n",
    "# return on budget for their movies\n",
    "director_order = (director_split_df.groupby('name')['perc'].mean()\n",
    "             .sort_values(ascending=False)[0:10].keys())"
   ]
  },
  {
   "cell_type": "markdown",
   "metadata": {},
   "source": [
    "#### Plotting"
   ]
  },
  {
   "cell_type": "code",
   "execution_count": 72,
   "metadata": {},
   "outputs": [
    {
     "data": {
      "image/png": "[encoded data removed]",
      "text/plain": [
       "<Figure size 864x684 with 1 Axes>"
      ]
     },
     "metadata": {
      "needs_background": "light"
     },
     "output_type": "display_data"
    }
   ],
   "source": [
    "fig, ax = plt.subplots(figsize=(12, 9.5))\n",
    "sns.barplot('perc', 'name', data=director_split_df, order=director_order)\n",
    "\n",
    "# Prettify plot\n",
    "ax.set_title(\"Top Directors by Mean Return on Budget for Their Movies\")\n",
    "ax.title.set_fontsize(28)\n",
    "ax.xaxis.label.set_fontsize(25)\n",
    "ax.yaxis.label.set_fontsize(25)\n",
    "ax.xaxis.label.set_text(\"Return on Investment %\")\n",
    "ax.yaxis.label.set_text(\"Director Name\")\n",
    "ax.tick_params(axis='both', which='major', labelsize=15)"
   ]
  },
  {
   "cell_type": "markdown",
   "metadata": {},
   "source": [
    "## Writers"
   ]
  },
  {
   "cell_type": "markdown",
   "metadata": {},
   "source": [
    "### Plotting ROI vs Writer Quantity"
   ]
  },
  {
   "cell_type": "markdown",
   "metadata": {},
   "source": [
    "#### Cleaning"
   ]
  },
  {
   "cell_type": "code",
   "execution_count": 75,
   "metadata": {},
   "outputs": [],
   "source": [
    "# Copy called_df, split directors column, and get the quantity of those splits\n",
    "writer_split_df = called_df.copy(deep=True)\n",
    "writer_split_df['writers'] = writer_split_df['writers'].map(\n",
    "    lambda x: x.split(','))\n",
    "writer_split_df['writer_count'] = writer_split_df['writers'].map(\n",
    "    lambda x: len(x))"
   ]
  },
  {
   "cell_type": "markdown",
   "metadata": {},
   "source": [
    "#### Plotting"
   ]
  },
  {
   "cell_type": "code",
   "execution_count": 76,
   "metadata": {},
   "outputs": [
    {
     "data": {
      "image/png": "[encoded data removed]",
      "text/plain": [
       "<Figure size 864x684 with 1 Axes>"
      ]
     },
     "metadata": {
      "needs_background": "light"
     },
     "output_type": "display_data"
    }
   ],
   "source": [
    "# How many writers would be ideal\n",
    "fig, ax = plt.subplots(figsize=(12, 9.5))\n",
    "sns.regplot(\"writer_count\", \"perc\", data=writer_split_df, ax=ax)\n",
    "\n",
    "# Prettify plot\n",
    "ax.set_title(\"ROI % vs Quantity of Writers\")\n",
    "ax.title.set_fontsize(20)\n",
    "ax.xaxis.label.set_fontsize(20)\n",
    "ax.yaxis.label.set_fontsize(20)\n",
    "ax.xaxis.label.set_text(\"Writer Count\")\n",
    "ax.yaxis.label.set_text(\"Return on Budget %\")\n",
    "ax.tick_params(axis='both', which='major', labelsize=15)\n",
    "\n",
    "# The graph is showing a downward trend the more writers you have\n",
    "# So one writer would be the best case for Microsoft."
   ]
  },
  {
   "cell_type": "markdown",
   "metadata": {},
   "source": [
    "### Plotting ROI vs Writer Quantity"
   ]
  },
  {
   "cell_type": "markdown",
   "metadata": {},
   "source": [
    "#### Cleaning"
   ]
  },
  {
   "cell_type": "code",
   "execution_count": 77,
   "metadata": {},
   "outputs": [],
   "source": [
    "# Remove movies with more than one writer\n",
    "writer_split_df['writer_count'] = writer_split_df['writer_count'].apply(lambda x: 1 if x == 1 else np.NaN)\n",
    "writer_split_df = writer_split_df.dropna()\n",
    "writer_split_df = writer_split_df.drop(columns=['writer_count'])\n",
    "writer_split_df['writers'] =  writer_split_df['writers'].apply(lambda x: x[0])\n"
   ]
  },
  {
   "cell_type": "code",
   "execution_count": 78,
   "metadata": {},
   "outputs": [
    {
     "data": {
      "text/plain": [
       "nm0000095    5.0\n",
       "nm1347153    5.0\n",
       "nm0796117    4.0\n",
       "nm0001752    3.0\n",
       "nm1938064    3.0\n",
       "Name: directors, dtype: float64"
      ]
     },
     "execution_count": 78,
     "metadata": {},
     "output_type": "execute_result"
    }
   ],
   "source": [
    "# Create a list of writers that have written more than one movie\n",
    "x_writers = writer_split_df['directors'].value_counts().apply(\n",
    "    lambda x: np.NaN if x < 2 else x).dropna()\n",
    "x_writers[0:5]"
   ]
  },
  {
   "cell_type": "code",
   "execution_count": 79,
   "metadata": {},
   "outputs": [
    {
     "data": {
      "text/html": [
       "<div>\n",
       "<style scoped>\n",
       "    .dataframe tbody tr th:only-of-type {\n",
       "        vertical-align: middle;\n",
       "    }\n",
       "\n",
       "    .dataframe tbody tr th {\n",
       "        vertical-align: top;\n",
       "    }\n",
       "\n",
       "    .dataframe thead th {\n",
       "        text-align: right;\n",
       "    }\n",
       "</style>\n",
       "<table border=\"1\" class=\"dataframe\">\n",
       "  <thead>\n",
       "    <tr style=\"text-align: right;\">\n",
       "      <th></th>\n",
       "      <th>tconst</th>\n",
       "      <th>primaryTitle</th>\n",
       "      <th>genres</th>\n",
       "      <th>budget</th>\n",
       "      <th>ww_gross</th>\n",
       "      <th>rating</th>\n",
       "      <th>perc</th>\n",
       "      <th>runtimeMinutes</th>\n",
       "      <th>directors</th>\n",
       "      <th>writers</th>\n",
       "    </tr>\n",
       "  </thead>\n",
       "  <tbody>\n",
       "    <tr>\n",
       "      <td>32</td>\n",
       "      <td>tt0466893</td>\n",
       "      <td>Margaret</td>\n",
       "      <td>Drama</td>\n",
       "      <td>14000000</td>\n",
       "      <td>564864</td>\n",
       "      <td>R</td>\n",
       "      <td>-0.959653</td>\n",
       "      <td>150</td>\n",
       "      <td>nm0518836</td>\n",
       "      <td>nm0518836</td>\n",
       "    </tr>\n",
       "    <tr>\n",
       "      <td>107</td>\n",
       "      <td>tt0872230</td>\n",
       "      <td>My Soul to Take</td>\n",
       "      <td>Horror,Mystery,Thriller</td>\n",
       "      <td>25000000</td>\n",
       "      <td>21500813</td>\n",
       "      <td>R</td>\n",
       "      <td>-0.139967</td>\n",
       "      <td>107</td>\n",
       "      <td>nm0000127</td>\n",
       "      <td>nm0000127</td>\n",
       "    </tr>\n",
       "    <tr>\n",
       "      <td>108</td>\n",
       "      <td>tt0873886</td>\n",
       "      <td>Red State</td>\n",
       "      <td>Action,Crime,Horror</td>\n",
       "      <td>4000000</td>\n",
       "      <td>1874460</td>\n",
       "      <td>R</td>\n",
       "      <td>-0.531385</td>\n",
       "      <td>88</td>\n",
       "      <td>nm0003620</td>\n",
       "      <td>nm0003620</td>\n",
       "    </tr>\n",
       "    <tr>\n",
       "      <td>125</td>\n",
       "      <td>tt0938283</td>\n",
       "      <td>The Last Airbender</td>\n",
       "      <td>Action,Adventure,Family</td>\n",
       "      <td>150000000</td>\n",
       "      <td>319713881</td>\n",
       "      <td>PG</td>\n",
       "      <td>1.131426</td>\n",
       "      <td>103</td>\n",
       "      <td>nm0796117</td>\n",
       "      <td>nm0796117</td>\n",
       "    </tr>\n",
       "    <tr>\n",
       "      <td>245</td>\n",
       "      <td>tt1171222</td>\n",
       "      <td>Baggage Claim</td>\n",
       "      <td>Comedy,Romance</td>\n",
       "      <td>8500000</td>\n",
       "      <td>22871096</td>\n",
       "      <td>PG-13</td>\n",
       "      <td>1.690717</td>\n",
       "      <td>96</td>\n",
       "      <td>nm0847859</td>\n",
       "      <td>nm0847859</td>\n",
       "    </tr>\n",
       "  </tbody>\n",
       "</table>\n",
       "</div>"
      ],
      "text/plain": [
       "        tconst        primaryTitle                   genres     budget  \\\n",
       "32   tt0466893            Margaret                    Drama   14000000   \n",
       "107  tt0872230     My Soul to Take  Horror,Mystery,Thriller   25000000   \n",
       "108  tt0873886           Red State      Action,Crime,Horror    4000000   \n",
       "125  tt0938283  The Last Airbender  Action,Adventure,Family  150000000   \n",
       "245  tt1171222       Baggage Claim           Comedy,Romance    8500000   \n",
       "\n",
       "      ww_gross rating      perc runtimeMinutes  directors    writers  \n",
       "32      564864      R -0.959653            150  nm0518836  nm0518836  \n",
       "107   21500813      R -0.139967            107  nm0000127  nm0000127  \n",
       "108    1874460      R -0.531385             88  nm0003620  nm0003620  \n",
       "125  319713881     PG  1.131426            103  nm0796117  nm0796117  \n",
       "245   22871096  PG-13  1.690717             96  nm0847859  nm0847859  "
      ]
     },
     "execution_count": 79,
     "metadata": {},
     "output_type": "execute_result"
    }
   ],
   "source": [
    "# Remove all but said writers from df\n",
    "writer_split_df['writers'] = writer_split_df['writers'].apply(\n",
    "    lambda x: x if x in x_writers else np.NaN)\n",
    "writer_split_df = writer_split_df.dropna()\n",
    "writer_split_df.head()"
   ]
  },
  {
   "cell_type": "code",
   "execution_count": 80,
   "metadata": {},
   "outputs": [],
   "source": [
    "# Apply the real names to the director dataframe\n",
    "writer_split_df['name'] = writer_split_df['writers'].apply(\n",
    "                                lambda x: name_df.loc[x]['primaryName'])"
   ]
  },
  {
   "cell_type": "code",
   "execution_count": 81,
   "metadata": {},
   "outputs": [],
   "source": [
    "# Create an order sequence of top 10 writers\n",
    "writer_order = (writer_split_df.groupby('name')['perc'].mean()\n",
    "             .sort_values(ascending=False)[0:10].keys())"
   ]
  },
  {
   "cell_type": "markdown",
   "metadata": {},
   "source": [
    "#### Plotting"
   ]
  },
  {
   "cell_type": "code",
   "execution_count": 82,
   "metadata": {},
   "outputs": [
    {
     "data": {
      "image/png": "[encoded data removed]",
      "text/plain": [
       "<Figure size 864x684 with 1 Axes>"
      ]
     },
     "metadata": {
      "needs_background": "light"
     },
     "output_type": "display_data"
    }
   ],
   "source": [
    "fig, ax = plt.subplots(figsize=(12, 9.5))\n",
    "sns.barplot('perc', 'name', data=writer_split_df, order=writer_order)\n",
    "\n",
    "# Prettify Plot\n",
    "ax.set_title(\"Top Writers by Mean Return on Budget for Their Movies\")\n",
    "ax.title.set_fontsize(28)\n",
    "ax.xaxis.label.set_fontsize(25)\n",
    "ax.yaxis.label.set_fontsize(25)\n",
    "ax.xaxis.label.set_text(\"Return on Investment %\")\n",
    "ax.yaxis.label.set_text(\"Writer Name\")\n",
    "ax.tick_params(axis='both', which='major', labelsize=15)"
   ]
  },
  {
   "cell_type": "markdown",
   "metadata": {},
   "source": [
    "## End"
   ]
  },
  {
   "cell_type": "code",
   "execution_count": 36,
   "metadata": {},
   "outputs": [
    {
     "data": {
      "text/plain": [
       "Index(['Jordan Peele', 'M. Night Shyamalan', 'Rian Johnson', 'Ari Aster',\n",
       "       'Christopher Nolan', 'Kenneth Lonergan', 'Woody Allen', 'Tyler Perry',\n",
       "       'Mike Mills', 'David E. Talbert'],\n",
       "      dtype='object', name='name')"
      ]
     },
     "execution_count": 36,
     "metadata": {},
     "output_type": "execute_result"
    }
   ],
   "source": [
    "# Top 10 writers\n",
    "writer_order"
   ]
  },
  {
   "cell_type": "code",
   "execution_count": 37,
   "metadata": {},
   "outputs": [
    {
     "data": {
      "text/plain": [
       "Index(['William Brent Bell', 'Jordan Peele', 'James Wan', 'David F. Sandberg',\n",
       "       'Adam Robitel', 'Christopher Landon', 'Alex Kendrick',\n",
       "       'M. Night Shyamalan', 'Darren Aronofsky', 'Andy Muschietti'],\n",
       "      dtype='object', name='name')"
      ]
     },
     "execution_count": 37,
     "metadata": {},
     "output_type": "execute_result"
    }
   ],
   "source": [
    "# Top 10 directors\n",
    "director_order"
   ]
  },
  {
   "cell_type": "code",
   "execution_count": 38,
   "metadata": {},
   "outputs": [],
   "source": [
    "# Best movie would be worldwide\n",
    "# directed and written by one of the top 10\n",
    "# rated PG-13 or R\n",
    "# either a comedy or a thriller\n",
    "# being 90-110 minutes long"
   ]
  },
  {
   "cell_type": "code",
   "execution_count": 39,
   "metadata": {},
   "outputs": [],
   "source": [
    "# add a future work slide to presentation"
   ]
  }
 ],
 "metadata": {
  "kernelspec": {
   "display_name": "Python [conda env:learn-env] *",
   "language": "python",
   "name": "conda-env-learn-env-py"
  },
  "language_info": {
   "codemirror_mode": {
    "name": "ipython",
    "version": 3
   },
   "file_extension": ".py",
   "mimetype": "text/x-python",
   "name": "python",
   "nbconvert_exporter": "python",
   "pygments_lexer": "ipython3",
   "version": "3.6.9"
  },
  "toc": {
   "base_numbering": 1,
   "nav_menu": {},
   "number_sections": true,
   "sideBar": true,
   "skip_h1_title": false,
   "title_cell": "Table of Contents",
   "title_sidebar": "Contents",
   "toc_cell": true,
   "toc_position": {
    "height": "calc(100% - 180px)",
    "left": "10px",
    "top": "150px",
    "width": "426.667px"
   },
   "toc_section_display": true,
   "toc_window_display": true
  }
 },
 "nbformat": 4,
 "nbformat_minor": 2
}
