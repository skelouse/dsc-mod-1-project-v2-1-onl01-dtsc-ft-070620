{
 "metadata": {
  "language_info": {
   "codemirror_mode": {
    "name": "ipython",
    "version": 3
   },
   "file_extension": ".py",
   "mimetype": "text/x-python",
   "name": "python",
   "nbconvert_exporter": "python",
   "pygments_lexer": "ipython3",
   "version": 3
  },
  "orig_nbformat": 2,
  "kernelspec": {
   "name": "python_defaultSpec_1596482708127",
   "display_name": "Python 3.6.9 64-bit ('learn-env': conda)"
  }
 },
 "nbformat": 4,
 "nbformat_minor": 2,
 "cells": [
  {
   "cell_type": "code",
   "execution_count": 2,
   "metadata": {},
   "outputs": [],
   "source": [
    "import re\n",
    "import json\n",
    "import requests\n",
    "from bs4 import BeautifulSoup\n",
    "file_name = 'sams.txt'\n",
    "data = {}\n",
    "\n",
    "def extract_budget(string):\n",
    "    try:\n",
    "        return int(\"\".join(re.findall(r'\\b\\d+\\b', string)))\n",
    "    except ValueError:\n",
    "        return None\n",
    "\n",
    "def extract_numbers(string):\n",
    "    try:\n",
    "        return int(\"\".join(re.findall(r'\\b\\d+\\b', string)))\n",
    "    except ValueError:\n",
    "        return None\n",
    "\n",
    "# Currency conversions as of 8/1/2020\n",
    "usd_from_GBP = 1.31\n",
    "usd_from_NOK = 0.11\n",
    "usd_from_DKK = 0.16\n",
    "usd_from_AUD = 0.71\n",
    "usd_from_EUR = 1.18\n",
    "usd_from_MXN = 0.045\n",
    "\n",
    "def find(soup, q_num):\n",
    "    budget = None\n",
    "    gross = None\n",
    "    ww_gross = None\n",
    "    rating = None\n",
    "    # Find the rating\n",
    "    for div in soup.findAll('div', class_='subtext'):\n",
    "        rating = (div.text.split('\\n')[1].replace(' ', '').replace('\\n', ''))\n",
    "    # Find the budget, gross, ww_gross in page\n",
    "    for h4 in soup.findAll('h4'):\n",
    "        if h4.text.startswith('Budget'):\n",
    "            text = h4.parent.text\n",
    "            # Split by currency\n",
    "            if 'GBP' in text:\n",
    "                text = text.split(' ')[0].replace('GBP', '')\n",
    "                budget = int(extract_budget(text)*usd_from_GBP)\n",
    "            elif 'NOK' in text:\n",
    "                text = text.split(' ')[0].replace('NOK', '')\n",
    "                budget = int(extract_budget(text)*usd_from_NOK)\n",
    "            elif 'DKK' in text:\n",
    "                text = text.split(' ')[0].replace('DKK', '')\n",
    "                budget = int(extract_budget(text)*usd_from_DKK)\n",
    "            elif 'AUD' in text:\n",
    "                text = text.split(' ')[0].replace('AUD', '')\n",
    "                budget = int(extract_budget(text)*usd_from_AUD)\n",
    "            elif 'EUR' in text:\n",
    "                text = text.split(' ')[0].replace('EUR', '')\n",
    "                budget = int(extract_budget(text)*usd_from_EUR)\n",
    "            elif 'MXN' in text:\n",
    "                text = text.split(' ')[0].replace('MXN', '')\n",
    "                budget = int(extract_budget(text)*usd_from_MXN)\n",
    "            elif '$' in text:\n",
    "                text = text.split(' ')[0]\n",
    "                budget = extract_budget(text)\n",
    "            else:\n",
    "                print('failed', text)\n",
    "            \n",
    "        elif h4.text.startswith('Gross USA'):\n",
    "            # Get the domestic gross\n",
    "            text = h4.parent.text\n",
    "            text = text.split(' ')[2]\n",
    "            gross = extract_numbers(text)\n",
    "            \n",
    "        elif h4.text.startswith('Cumulative Worldwide'):\n",
    "            # Get the Worldwide gross\n",
    "            text = h4.parent.text\n",
    "            text = text.split(' ')[3]\n",
    "            ww_gross = extract_numbers(text)\n",
    "    if budget or gross or ww_gross or rating:\n",
    "        # Combine into dictionary\n",
    "        new_data = {\n",
    "            q_num:{\n",
    "                'budget': budget,\n",
    "                'gross': gross,\n",
    "                'ww_gross': ww_gross,\n",
    "                'rating': rating\n",
    "                }\n",
    "            }\n",
    "        # Update main dictionary with data\n",
    "        data.update(new_data)\n",
    "\n",
    "url = \"https://www.imdb.com/title/\"\n",
    "def get_soup(q_num):\n",
    "    req = requests.get(str(url+q_num))\n",
    "    return BeautifulSoup(req.content.decode(), 'html.parser')\n",
    "\n",
    "def save(data):\n",
    "    with open('data.json', 'w') as f:\n",
    "        json.dump(data, f)\n",
    "\n",
    "def main():\n",
    "    with open(file_name, 'r') as f:\n",
    "        q_list = f.read().split(',')\n",
    "\n",
    "\n",
    "    x = 0\n",
    "    for num in q_list:\n",
    "        x += 1\n",
    "        if x == 100:\n",
    "            x = 0\n",
    "            save(data)\n",
    "        print('analysing', num)\n",
    "        find(get_soup(num), num)\n",
    "\n",
    "    save(data)"
   ]
  },
  {
   "cell_type": "code",
   "execution_count": 3,
   "metadata": {},
   "outputs": [],
   "source": [
    "# Query to get data we scraped from\n",
    "import pandasql as ps\n",
    "def query():\n",
    "    # Needs access to title_ratings to run\n",
    "    q1 = \"\"\"\n",
    "    SELECT tconst FROM title_ratings\n",
    "    JOIN title_basics\n",
    "    USING(tconst)\n",
    "    WHERE startYear > 2009\n",
    "    AND (titleType = 'movie' OR titleType = 'tvMovie')\n",
    "    \"\"\"\n",
    "    qlist = ''\n",
    "    x = 0\n",
    "    df = ps.sqldf(q1, locals())\n",
    "    for i in df['tconst']:\n",
    "        x+=1\n",
    "        qlist += str(i+',')\n",
    "\n",
    "    qlist += '\\b'\n",
    "    with open('qlist.txt', 'w') as f:\n",
    "        f.write(qlist)"
   ]
  },
  {
   "cell_type": "code",
   "execution_count": 4,
   "metadata": {},
   "outputs": [],
   "source": [
    "import os\n",
    "import json\n",
    "folder_name = 'all_data'\n",
    "file_list = os.listdir(folder_name)"
   ]
  },
  {
   "cell_type": "code",
   "execution_count": 5,
   "metadata": {},
   "outputs": [
    {
     "output_type": "execute_result",
     "data": {
      "text/plain": "31696"
     },
     "metadata": {},
     "execution_count": 5
    }
   ],
   "source": [
    "data = {}\n",
    "for filename in file_list:\n",
    "    with open((folder_name +'/'+filename), 'r') as f:\n",
    "        data.update(json.load(f))\n",
    "len(data)"
   ]
  },
  {
   "cell_type": "code",
   "execution_count": 6,
   "metadata": {
    "tags": []
   },
   "outputs": [],
   "source": [
    "import pandas as pd\n",
    "df = pd.DataFrame.from_dict(data)\n",
    "df = df.transpose()\n",
    "df = df.reset_index()\n",
    "df = df.rename(columns={'index': 'tconst'})\n"
   ]
  },
  {
   "cell_type": "code",
   "execution_count": 7,
   "metadata": {},
   "outputs": [],
   "source": [
    "# Save DataFrame to csv\n",
    "df.to_csv('scraped_data/budget_ratings.csv')"
   ]
  },
  {
   "cell_type": "code",
   "execution_count": 8,
   "metadata": {},
   "outputs": [],
   "source": [
    "import numpy as np\n",
    "ratings = ['G', 'PG', 'PG-13', 'R']\n",
    "df['rating'] = df['rating'].map(lambda x: 'NotRated' if x not in ratings else x)\n",
    "df['budget'] = df['budget'].map(lambda x: np.NaN if x in[None, 0] else x)\n",
    "df['gross'] = df['gross'].map(lambda x: np.NaN if x in[None, 0] else x)\n",
    "df['ww_gross'] = df['ww_gross'].map(lambda x: np.NaN if x in[None, 0] else x)"
   ]
  },
  {
   "cell_type": "code",
   "execution_count": 9,
   "metadata": {},
   "outputs": [
    {
     "output_type": "execute_result",
     "data": {
      "text/plain": "          tconst    budget     gross  ww_gross    rating\n0      tt3564924  150000.0       NaN       NaN     PG-13\n1      tt3565112       NaN       NaN       NaN  NotRated\n2      tt3565174       NaN       NaN  191365.0  NotRated\n3      tt3565406       NaN       NaN       NaN  NotRated\n4      tt3565434   40000.0       NaN       NaN  NotRated\n...          ...       ...       ...       ...       ...\n31691  tt1610492       NaN       NaN       NaN  NotRated\n31692  tt1610516       NaN   46623.0   46623.0  NotRated\n31693  tt1610525       NaN  320725.0  502518.0         R\n31694  tt1610996   70000.0       NaN    8555.0         R\n31695  tt1611038       NaN       NaN  123609.0  NotRated\n\n[31696 rows x 5 columns]",
      "text/html": "<div>\n<style scoped>\n    .dataframe tbody tr th:only-of-type {\n        vertical-align: middle;\n    }\n\n    .dataframe tbody tr th {\n        vertical-align: top;\n    }\n\n    .dataframe thead th {\n        text-align: right;\n    }\n</style>\n<table border=\"1\" class=\"dataframe\">\n  <thead>\n    <tr style=\"text-align: right;\">\n      <th></th>\n      <th>tconst</th>\n      <th>budget</th>\n      <th>gross</th>\n      <th>ww_gross</th>\n      <th>rating</th>\n    </tr>\n  </thead>\n  <tbody>\n    <tr>\n      <th>0</th>\n      <td>tt3564924</td>\n      <td>150000.0</td>\n      <td>NaN</td>\n      <td>NaN</td>\n      <td>PG-13</td>\n    </tr>\n    <tr>\n      <th>1</th>\n      <td>tt3565112</td>\n      <td>NaN</td>\n      <td>NaN</td>\n      <td>NaN</td>\n      <td>NotRated</td>\n    </tr>\n    <tr>\n      <th>2</th>\n      <td>tt3565174</td>\n      <td>NaN</td>\n      <td>NaN</td>\n      <td>191365.0</td>\n      <td>NotRated</td>\n    </tr>\n    <tr>\n      <th>3</th>\n      <td>tt3565406</td>\n      <td>NaN</td>\n      <td>NaN</td>\n      <td>NaN</td>\n      <td>NotRated</td>\n    </tr>\n    <tr>\n      <th>4</th>\n      <td>tt3565434</td>\n      <td>40000.0</td>\n      <td>NaN</td>\n      <td>NaN</td>\n      <td>NotRated</td>\n    </tr>\n    <tr>\n      <th>...</th>\n      <td>...</td>\n      <td>...</td>\n      <td>...</td>\n      <td>...</td>\n      <td>...</td>\n    </tr>\n    <tr>\n      <th>31691</th>\n      <td>tt1610492</td>\n      <td>NaN</td>\n      <td>NaN</td>\n      <td>NaN</td>\n      <td>NotRated</td>\n    </tr>\n    <tr>\n      <th>31692</th>\n      <td>tt1610516</td>\n      <td>NaN</td>\n      <td>46623.0</td>\n      <td>46623.0</td>\n      <td>NotRated</td>\n    </tr>\n    <tr>\n      <th>31693</th>\n      <td>tt1610525</td>\n      <td>NaN</td>\n      <td>320725.0</td>\n      <td>502518.0</td>\n      <td>R</td>\n    </tr>\n    <tr>\n      <th>31694</th>\n      <td>tt1610996</td>\n      <td>70000.0</td>\n      <td>NaN</td>\n      <td>8555.0</td>\n      <td>R</td>\n    </tr>\n    <tr>\n      <th>31695</th>\n      <td>tt1611038</td>\n      <td>NaN</td>\n      <td>NaN</td>\n      <td>123609.0</td>\n      <td>NotRated</td>\n    </tr>\n  </tbody>\n</table>\n<p>31696 rows × 5 columns</p>\n</div>"
     },
     "metadata": {},
     "execution_count": 9
    }
   ],
   "source": [
    "df"
   ]
  },
  {
   "cell_type": "code",
   "execution_count": 10,
   "metadata": {},
   "outputs": [],
   "source": [
    "df.reset_index(drop=True, inplace=True)"
   ]
  },
  {
   "cell_type": "code",
   "execution_count": 11,
   "metadata": {},
   "outputs": [
    {
     "output_type": "execute_result",
     "data": {
      "text/plain": "          tconst    budget     gross  ww_gross    rating\n0      tt3564924  150000.0       NaN       NaN     PG-13\n1      tt3565112       NaN       NaN       NaN  NotRated\n2      tt3565174       NaN       NaN  191365.0  NotRated\n3      tt3565406       NaN       NaN       NaN  NotRated\n4      tt3565434   40000.0       NaN       NaN  NotRated\n...          ...       ...       ...       ...       ...\n31691  tt1610492       NaN       NaN       NaN  NotRated\n31692  tt1610516       NaN   46623.0   46623.0  NotRated\n31693  tt1610525       NaN  320725.0  502518.0         R\n31694  tt1610996   70000.0       NaN    8555.0         R\n31695  tt1611038       NaN       NaN  123609.0  NotRated\n\n[31696 rows x 5 columns]",
      "text/html": "<div>\n<style scoped>\n    .dataframe tbody tr th:only-of-type {\n        vertical-align: middle;\n    }\n\n    .dataframe tbody tr th {\n        vertical-align: top;\n    }\n\n    .dataframe thead th {\n        text-align: right;\n    }\n</style>\n<table border=\"1\" class=\"dataframe\">\n  <thead>\n    <tr style=\"text-align: right;\">\n      <th></th>\n      <th>tconst</th>\n      <th>budget</th>\n      <th>gross</th>\n      <th>ww_gross</th>\n      <th>rating</th>\n    </tr>\n  </thead>\n  <tbody>\n    <tr>\n      <th>0</th>\n      <td>tt3564924</td>\n      <td>150000.0</td>\n      <td>NaN</td>\n      <td>NaN</td>\n      <td>PG-13</td>\n    </tr>\n    <tr>\n      <th>1</th>\n      <td>tt3565112</td>\n      <td>NaN</td>\n      <td>NaN</td>\n      <td>NaN</td>\n      <td>NotRated</td>\n    </tr>\n    <tr>\n      <th>2</th>\n      <td>tt3565174</td>\n      <td>NaN</td>\n      <td>NaN</td>\n      <td>191365.0</td>\n      <td>NotRated</td>\n    </tr>\n    <tr>\n      <th>3</th>\n      <td>tt3565406</td>\n      <td>NaN</td>\n      <td>NaN</td>\n      <td>NaN</td>\n      <td>NotRated</td>\n    </tr>\n    <tr>\n      <th>4</th>\n      <td>tt3565434</td>\n      <td>40000.0</td>\n      <td>NaN</td>\n      <td>NaN</td>\n      <td>NotRated</td>\n    </tr>\n    <tr>\n      <th>...</th>\n      <td>...</td>\n      <td>...</td>\n      <td>...</td>\n      <td>...</td>\n      <td>...</td>\n    </tr>\n    <tr>\n      <th>31691</th>\n      <td>tt1610492</td>\n      <td>NaN</td>\n      <td>NaN</td>\n      <td>NaN</td>\n      <td>NotRated</td>\n    </tr>\n    <tr>\n      <th>31692</th>\n      <td>tt1610516</td>\n      <td>NaN</td>\n      <td>46623.0</td>\n      <td>46623.0</td>\n      <td>NotRated</td>\n    </tr>\n    <tr>\n      <th>31693</th>\n      <td>tt1610525</td>\n      <td>NaN</td>\n      <td>320725.0</td>\n      <td>502518.0</td>\n      <td>R</td>\n    </tr>\n    <tr>\n      <th>31694</th>\n      <td>tt1610996</td>\n      <td>70000.0</td>\n      <td>NaN</td>\n      <td>8555.0</td>\n      <td>R</td>\n    </tr>\n    <tr>\n      <th>31695</th>\n      <td>tt1611038</td>\n      <td>NaN</td>\n      <td>NaN</td>\n      <td>123609.0</td>\n      <td>NotRated</td>\n    </tr>\n  </tbody>\n</table>\n<p>31696 rows × 5 columns</p>\n</div>"
     },
     "metadata": {},
     "execution_count": 11
    }
   ],
   "source": [
    "df"
   ]
  },
  {
   "cell_type": "code",
   "execution_count": 12,
   "metadata": {},
   "outputs": [
    {
     "output_type": "execute_result",
     "data": {
      "text/plain": "          tconst      budget    ww_gross    rating\n12     tt3567288   5000000.0  98450062.0     PG-13\n23     tt3569230  30000000.0  42972994.0         R\n24     tt3569326    800000.0      3861.0  NotRated\n25     tt3569356    800000.0     36026.0  NotRated\n33     tt3569978    590000.0      1575.0  NotRated\n...          ...         ...         ...       ...\n31672  tt1609479   5000000.0    120823.0  NotRated\n31675  tt1609488    350000.0     40645.0         R\n31676  tt1609492   2944000.0   2701266.0  NotRated\n31685  tt1610395    826000.0       114.0  NotRated\n31694  tt1610996     70000.0      8555.0         R\n\n[3319 rows x 4 columns]",
      "text/html": "<div>\n<style scoped>\n    .dataframe tbody tr th:only-of-type {\n        vertical-align: middle;\n    }\n\n    .dataframe tbody tr th {\n        vertical-align: top;\n    }\n\n    .dataframe thead th {\n        text-align: right;\n    }\n</style>\n<table border=\"1\" class=\"dataframe\">\n  <thead>\n    <tr style=\"text-align: right;\">\n      <th></th>\n      <th>tconst</th>\n      <th>budget</th>\n      <th>ww_gross</th>\n      <th>rating</th>\n    </tr>\n  </thead>\n  <tbody>\n    <tr>\n      <th>12</th>\n      <td>tt3567288</td>\n      <td>5000000.0</td>\n      <td>98450062.0</td>\n      <td>PG-13</td>\n    </tr>\n    <tr>\n      <th>23</th>\n      <td>tt3569230</td>\n      <td>30000000.0</td>\n      <td>42972994.0</td>\n      <td>R</td>\n    </tr>\n    <tr>\n      <th>24</th>\n      <td>tt3569326</td>\n      <td>800000.0</td>\n      <td>3861.0</td>\n      <td>NotRated</td>\n    </tr>\n    <tr>\n      <th>25</th>\n      <td>tt3569356</td>\n      <td>800000.0</td>\n      <td>36026.0</td>\n      <td>NotRated</td>\n    </tr>\n    <tr>\n      <th>33</th>\n      <td>tt3569978</td>\n      <td>590000.0</td>\n      <td>1575.0</td>\n      <td>NotRated</td>\n    </tr>\n    <tr>\n      <th>...</th>\n      <td>...</td>\n      <td>...</td>\n      <td>...</td>\n      <td>...</td>\n    </tr>\n    <tr>\n      <th>31672</th>\n      <td>tt1609479</td>\n      <td>5000000.0</td>\n      <td>120823.0</td>\n      <td>NotRated</td>\n    </tr>\n    <tr>\n      <th>31675</th>\n      <td>tt1609488</td>\n      <td>350000.0</td>\n      <td>40645.0</td>\n      <td>R</td>\n    </tr>\n    <tr>\n      <th>31676</th>\n      <td>tt1609492</td>\n      <td>2944000.0</td>\n      <td>2701266.0</td>\n      <td>NotRated</td>\n    </tr>\n    <tr>\n      <th>31685</th>\n      <td>tt1610395</td>\n      <td>826000.0</td>\n      <td>114.0</td>\n      <td>NotRated</td>\n    </tr>\n    <tr>\n      <th>31694</th>\n      <td>tt1610996</td>\n      <td>70000.0</td>\n      <td>8555.0</td>\n      <td>R</td>\n    </tr>\n  </tbody>\n</table>\n<p>3319 rows × 4 columns</p>\n</div>"
     },
     "metadata": {},
     "execution_count": 12
    }
   ],
   "source": [
    "import seaborn as sns\n",
    "import matplotlib.pyplot as plt\n",
    "df_drop_gross = df.drop(['gross'], axis=1).dropna()\n",
    "\n",
    "sns.lmplot(data=df_drop_gross, x='budget', y='ww_gross')\n",
    "df_drop_gross\n"
   ]
  },
  {
   "cell_type": "code",
   "execution_count": null,
   "metadata": {},
   "outputs": [],
   "source": []
  }
 ]
}